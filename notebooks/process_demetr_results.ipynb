{
 "cells": [
  {
   "cell_type": "code",
   "execution_count": 1,
   "metadata": {},
   "outputs": [],
   "source": [
    "import os\n",
    "\n",
    "import numpy as np\n",
    "import pandas as pd\n",
    "import seaborn as sns\n",
    "import yaml\n",
    "from matplotlib import pyplot as plt"
   ]
  },
  {
   "cell_type": "code",
   "execution_count": 2,
   "metadata": {},
   "outputs": [],
   "source": [
    "# Categories as specified in the dataset are different to the paper\n",
    "# This gives the mapping between them\n",
    "cat_correction = {20: 34,\n",
    "                  21: 20,\n",
    "                  22: 21,\n",
    "                  23: 22,\n",
    "                  24: 23,\n",
    "                  25: 24,\n",
    "                  26: 25,\n",
    "                  27: 26,\n",
    "                  28: 27,\n",
    "                  29: 28,\n",
    "                  30: 29,\n",
    "                  31: 30,\n",
    "                  32: 31,\n",
    "                  33: 32,\n",
    "                  34: 33}"
   ]
  },
  {
   "cell_type": "code",
   "execution_count": 3,
   "metadata": {},
   "outputs": [],
   "source": [
    "# Map categories to error severity\n",
    "# Severity is as specified in the paper\n",
    "with open(\"cat_severity.yaml\") as stream:\n",
    "    try:\n",
    "        cat_severity = yaml.safe_load(stream)\n",
    "    except yaml.YAMLError as exc:\n",
    "        print(exc)"
   ]
  },
  {
   "cell_type": "markdown",
   "metadata": {},
   "source": [
    "### Load results from DEMETR paper"
   ]
  },
  {
   "cell_type": "code",
   "execution_count": 4,
   "metadata": {},
   "outputs": [],
   "source": [
    "demetr_results = \"../data/demetr_paper_results_tidy.csv\""
   ]
  },
  {
   "cell_type": "code",
   "execution_count": 5,
   "metadata": {},
   "outputs": [
    {
     "data": {
      "text/html": [
       "<div>\n",
       "<style scoped>\n",
       "    .dataframe tbody tr th:only-of-type {\n",
       "        vertical-align: middle;\n",
       "    }\n",
       "\n",
       "    .dataframe tbody tr th {\n",
       "        vertical-align: top;\n",
       "    }\n",
       "\n",
       "    .dataframe thead th {\n",
       "        text-align: right;\n",
       "    }\n",
       "</style>\n",
       "<table border=\"1\" class=\"dataframe\">\n",
       "  <thead>\n",
       "    <tr style=\"text-align: right;\">\n",
       "      <th></th>\n",
       "      <th>metric</th>\n",
       "      <th>type</th>\n",
       "      <th>accuracy</th>\n",
       "      <th>category</th>\n",
       "    </tr>\n",
       "  </thead>\n",
       "  <tbody>\n",
       "    <tr>\n",
       "      <th>0</th>\n",
       "      <td>Bleu</td>\n",
       "      <td>string</td>\n",
       "      <td>93.2</td>\n",
       "      <td>1</td>\n",
       "    </tr>\n",
       "  </tbody>\n",
       "</table>\n",
       "</div>"
      ],
      "text/plain": [
       "  metric    type  accuracy  category\n",
       "0   Bleu  string      93.2         1"
      ]
     },
     "execution_count": 5,
     "metadata": {},
     "output_type": "execute_result"
    }
   ],
   "source": [
    "demetr_df = pd.read_csv(demetr_results)\n",
    "demetr_df.head(1)"
   ]
  },
  {
   "cell_type": "code",
   "execution_count": 6,
   "metadata": {},
   "outputs": [],
   "source": [
    "bleu_baseline = demetr_df[demetr_df.metric == 'Bleu']\n",
    "comet_baseline = demetr_df[demetr_df.metric == 'Comet']"
   ]
  },
  {
   "cell_type": "code",
   "execution_count": 7,
   "metadata": {},
   "outputs": [
    {
     "data": {
      "text/html": [
       "<div>\n",
       "<style scoped>\n",
       "    .dataframe tbody tr th:only-of-type {\n",
       "        vertical-align: middle;\n",
       "    }\n",
       "\n",
       "    .dataframe tbody tr th {\n",
       "        vertical-align: top;\n",
       "    }\n",
       "\n",
       "    .dataframe thead th {\n",
       "        text-align: right;\n",
       "    }\n",
       "</style>\n",
       "<table border=\"1\" class=\"dataframe\">\n",
       "  <thead>\n",
       "    <tr style=\"text-align: right;\">\n",
       "      <th></th>\n",
       "      <th>metric</th>\n",
       "      <th>type</th>\n",
       "      <th>accuracy</th>\n",
       "      <th>category</th>\n",
       "    </tr>\n",
       "  </thead>\n",
       "  <tbody>\n",
       "    <tr>\n",
       "      <th>9</th>\n",
       "      <td>Comet</td>\n",
       "      <td>learned</td>\n",
       "      <td>99.1</td>\n",
       "      <td>1</td>\n",
       "    </tr>\n",
       "    <tr>\n",
       "      <th>22</th>\n",
       "      <td>Comet</td>\n",
       "      <td>learned</td>\n",
       "      <td>100.0</td>\n",
       "      <td>2</td>\n",
       "    </tr>\n",
       "    <tr>\n",
       "      <th>35</th>\n",
       "      <td>Comet</td>\n",
       "      <td>learned</td>\n",
       "      <td>91.2</td>\n",
       "      <td>3</td>\n",
       "    </tr>\n",
       "    <tr>\n",
       "      <th>48</th>\n",
       "      <td>Comet</td>\n",
       "      <td>learned</td>\n",
       "      <td>99.2</td>\n",
       "      <td>4</td>\n",
       "    </tr>\n",
       "    <tr>\n",
       "      <th>61</th>\n",
       "      <td>Comet</td>\n",
       "      <td>learned</td>\n",
       "      <td>95.5</td>\n",
       "      <td>5</td>\n",
       "    </tr>\n",
       "  </tbody>\n",
       "</table>\n",
       "</div>"
      ],
      "text/plain": [
       "   metric     type  accuracy  category\n",
       "9   Comet  learned      99.1         1\n",
       "22  Comet  learned     100.0         2\n",
       "35  Comet  learned      91.2         3\n",
       "48  Comet  learned      99.2         4\n",
       "61  Comet  learned      95.5         5"
      ]
     },
     "execution_count": 7,
     "metadata": {},
     "output_type": "execute_result"
    }
   ],
   "source": [
    "comet_baseline.head(5)"
   ]
  },
  {
   "cell_type": "code",
   "execution_count": 8,
   "metadata": {},
   "outputs": [
    {
     "data": {
      "text/html": [
       "<div>\n",
       "<style scoped>\n",
       "    .dataframe tbody tr th:only-of-type {\n",
       "        vertical-align: middle;\n",
       "    }\n",
       "\n",
       "    .dataframe tbody tr th {\n",
       "        vertical-align: top;\n",
       "    }\n",
       "\n",
       "    .dataframe thead th {\n",
       "        text-align: right;\n",
       "    }\n",
       "</style>\n",
       "<table border=\"1\" class=\"dataframe\">\n",
       "  <thead>\n",
       "    <tr style=\"text-align: right;\">\n",
       "      <th></th>\n",
       "      <th>metric</th>\n",
       "      <th>type</th>\n",
       "      <th>accuracy</th>\n",
       "      <th>category</th>\n",
       "    </tr>\n",
       "  </thead>\n",
       "  <tbody>\n",
       "    <tr>\n",
       "      <th>0</th>\n",
       "      <td>Bleu</td>\n",
       "      <td>string</td>\n",
       "      <td>93.2</td>\n",
       "      <td>1</td>\n",
       "    </tr>\n",
       "    <tr>\n",
       "      <th>13</th>\n",
       "      <td>Bleu</td>\n",
       "      <td>string</td>\n",
       "      <td>95.7</td>\n",
       "      <td>2</td>\n",
       "    </tr>\n",
       "    <tr>\n",
       "      <th>26</th>\n",
       "      <td>Bleu</td>\n",
       "      <td>string</td>\n",
       "      <td>69.5</td>\n",
       "      <td>3</td>\n",
       "    </tr>\n",
       "    <tr>\n",
       "      <th>39</th>\n",
       "      <td>Bleu</td>\n",
       "      <td>string</td>\n",
       "      <td>73.1</td>\n",
       "      <td>4</td>\n",
       "    </tr>\n",
       "    <tr>\n",
       "      <th>52</th>\n",
       "      <td>Bleu</td>\n",
       "      <td>string</td>\n",
       "      <td>79.2</td>\n",
       "      <td>5</td>\n",
       "    </tr>\n",
       "  </tbody>\n",
       "</table>\n",
       "</div>"
      ],
      "text/plain": [
       "   metric    type  accuracy  category\n",
       "0    Bleu  string      93.2         1\n",
       "13   Bleu  string      95.7         2\n",
       "26   Bleu  string      69.5         3\n",
       "39   Bleu  string      73.1         4\n",
       "52   Bleu  string      79.2         5"
      ]
     },
     "execution_count": 8,
     "metadata": {},
     "output_type": "execute_result"
    }
   ],
   "source": [
    "bleu_baseline.head(5)"
   ]
  },
  {
   "cell_type": "code",
   "execution_count": 9,
   "metadata": {},
   "outputs": [
    {
     "name": "stdout",
     "output_type": "stream",
     "text": [
      "35\n",
      "35\n"
     ]
    }
   ],
   "source": [
    "# Sort and sanity check\n",
    "# We should have 35 categories\n",
    "bleu_baseline = bleu_baseline.sort_values('category')\n",
    "print(len(bleu_baseline))\n",
    "\n",
    "comet_baseline = comet_baseline.sort_values('category')\n",
    "print(len(comet_baseline))"
   ]
  },
  {
   "cell_type": "markdown",
   "metadata": {},
   "source": [
    "### Load M4ST results"
   ]
  },
  {
   "cell_type": "code",
   "execution_count": 85,
   "metadata": {},
   "outputs": [],
   "source": [
    "m4st_res_dir = \"../outputs/demetr\""
   ]
  },
  {
   "cell_type": "code",
   "execution_count": 86,
   "metadata": {},
   "outputs": [],
   "source": [
    "res_files = os.listdir(m4st_res_dir)"
   ]
  },
  {
   "cell_type": "code",
   "execution_count": 87,
   "metadata": {},
   "outputs": [],
   "source": [
    "# Read all files into a single dataframe\n",
    "metric = res_files[0].split('_')[0]\n",
    "id = next(c for c in res_files[0].split('_') if 'id' in c)\n",
    "cat = int(id.strip('id'))\n",
    "all_res = pd.read_json(os.path.join(m4st_res_dir, res_files[0]))\n",
    "all_res = all_res.T\n",
    "all_res['metric'] = metric\n",
    "all_res['sentence_id'] = all_res.index\n",
    "all_res['category'] = cat\n",
    "\n",
    "for i in range(1, len(res_files)):\n",
    "    try:\n",
    "        res_df = pd.read_json(os.path.join(m4st_res_dir, res_files[i]))\n",
    "        metric = res_files[i].split('_')[0]\n",
    "        id = next(c for c in res_files[i].split('_') if 'id' in c)\n",
    "        cat = int(id.strip('id'))\n",
    "        res_df = res_df.T\n",
    "        res_df['metric'] = metric\n",
    "        res_df['sentence_id'] = res_df.index\n",
    "        res_df['category'] = cat\n",
    "        all_res = pd.concat([all_res, res_df])\n",
    "    except IsADirectoryError:\n",
    "        pass"
   ]
  },
  {
   "cell_type": "code",
   "execution_count": 88,
   "metadata": {},
   "outputs": [
    {
     "data": {
      "text/html": [
       "<div>\n",
       "<style scoped>\n",
       "    .dataframe tbody tr th:only-of-type {\n",
       "        vertical-align: middle;\n",
       "    }\n",
       "\n",
       "    .dataframe tbody tr th {\n",
       "        vertical-align: top;\n",
       "    }\n",
       "\n",
       "    .dataframe thead th {\n",
       "        text-align: right;\n",
       "    }\n",
       "</style>\n",
       "<table border=\"1\" class=\"dataframe\">\n",
       "  <thead>\n",
       "    <tr style=\"text-align: right;\">\n",
       "      <th></th>\n",
       "      <th>source_language</th>\n",
       "      <th>mt_score</th>\n",
       "      <th>disfluent_score</th>\n",
       "      <th>metric</th>\n",
       "      <th>sentence_id</th>\n",
       "      <th>category</th>\n",
       "    </tr>\n",
       "  </thead>\n",
       "  <tbody>\n",
       "    <tr>\n",
       "      <th>1</th>\n",
       "      <td>chinese_simple</td>\n",
       "      <td>73.613919</td>\n",
       "      <td>19.173356</td>\n",
       "      <td>ChrF1</td>\n",
       "      <td>1</td>\n",
       "      <td>34</td>\n",
       "    </tr>\n",
       "  </tbody>\n",
       "</table>\n",
       "</div>"
      ],
      "text/plain": [
       "  source_language   mt_score disfluent_score metric  sentence_id  category\n",
       "1  chinese_simple  73.613919       19.173356  ChrF1            1        34"
      ]
     },
     "execution_count": 88,
     "metadata": {},
     "output_type": "execute_result"
    }
   ],
   "source": [
    "all_res.head(1)"
   ]
  },
  {
   "cell_type": "code",
   "execution_count": 89,
   "metadata": {},
   "outputs": [],
   "source": [
    "# Correct categories to align with the paper\n",
    "all_res['category'] = all_res['category'].replace(cat_correction)"
   ]
  },
  {
   "cell_type": "code",
   "execution_count": 90,
   "metadata": {},
   "outputs": [
    {
     "data": {
      "text/html": [
       "<div>\n",
       "<style scoped>\n",
       "    .dataframe tbody tr th:only-of-type {\n",
       "        vertical-align: middle;\n",
       "    }\n",
       "\n",
       "    .dataframe tbody tr th {\n",
       "        vertical-align: top;\n",
       "    }\n",
       "\n",
       "    .dataframe thead th {\n",
       "        text-align: right;\n",
       "    }\n",
       "</style>\n",
       "<table border=\"1\" class=\"dataframe\">\n",
       "  <thead>\n",
       "    <tr style=\"text-align: right;\">\n",
       "      <th></th>\n",
       "      <th>source_language</th>\n",
       "      <th>mt_score</th>\n",
       "      <th>disfluent_score</th>\n",
       "      <th>metric</th>\n",
       "      <th>sentence_id</th>\n",
       "      <th>category</th>\n",
       "    </tr>\n",
       "  </thead>\n",
       "  <tbody>\n",
       "    <tr>\n",
       "      <th>1</th>\n",
       "      <td>chinese_simple</td>\n",
       "      <td>73.613919</td>\n",
       "      <td>19.173356</td>\n",
       "      <td>ChrF1</td>\n",
       "      <td>1</td>\n",
       "      <td>33</td>\n",
       "    </tr>\n",
       "  </tbody>\n",
       "</table>\n",
       "</div>"
      ],
      "text/plain": [
       "  source_language   mt_score disfluent_score metric  sentence_id  category\n",
       "1  chinese_simple  73.613919       19.173356  ChrF1            1        33"
      ]
     },
     "execution_count": 90,
     "metadata": {},
     "output_type": "execute_result"
    }
   ],
   "source": [
    "all_res.head(1)"
   ]
  },
  {
   "cell_type": "code",
   "execution_count": 91,
   "metadata": {},
   "outputs": [],
   "source": [
    "# Add column indicating DEMETR accuracy\n",
    "all_res['correct'] = all_res['mt_score'] > all_res['disfluent_score']"
   ]
  },
  {
   "cell_type": "code",
   "execution_count": 92,
   "metadata": {},
   "outputs": [
    {
     "data": {
      "text/html": [
       "<div>\n",
       "<style scoped>\n",
       "    .dataframe tbody tr th:only-of-type {\n",
       "        vertical-align: middle;\n",
       "    }\n",
       "\n",
       "    .dataframe tbody tr th {\n",
       "        vertical-align: top;\n",
       "    }\n",
       "\n",
       "    .dataframe thead th {\n",
       "        text-align: right;\n",
       "    }\n",
       "</style>\n",
       "<table border=\"1\" class=\"dataframe\">\n",
       "  <thead>\n",
       "    <tr style=\"text-align: right;\">\n",
       "      <th></th>\n",
       "      <th>source_language</th>\n",
       "      <th>mt_score</th>\n",
       "      <th>disfluent_score</th>\n",
       "      <th>metric</th>\n",
       "      <th>sentence_id</th>\n",
       "      <th>category</th>\n",
       "      <th>correct</th>\n",
       "    </tr>\n",
       "  </thead>\n",
       "  <tbody>\n",
       "    <tr>\n",
       "      <th>601</th>\n",
       "      <td>czech</td>\n",
       "      <td>4.097744</td>\n",
       "      <td>3.907722</td>\n",
       "      <td>BLASER</td>\n",
       "      <td>601</td>\n",
       "      <td>35</td>\n",
       "      <td>True</td>\n",
       "    </tr>\n",
       "    <tr>\n",
       "      <th>602</th>\n",
       "      <td>czech</td>\n",
       "      <td>4.709267</td>\n",
       "      <td>4.441699</td>\n",
       "      <td>BLASER</td>\n",
       "      <td>602</td>\n",
       "      <td>35</td>\n",
       "      <td>True</td>\n",
       "    </tr>\n",
       "    <tr>\n",
       "      <th>603</th>\n",
       "      <td>czech</td>\n",
       "      <td>4.352407</td>\n",
       "      <td>3.300454</td>\n",
       "      <td>BLASER</td>\n",
       "      <td>603</td>\n",
       "      <td>35</td>\n",
       "      <td>True</td>\n",
       "    </tr>\n",
       "    <tr>\n",
       "      <th>604</th>\n",
       "      <td>czech</td>\n",
       "      <td>4.54844</td>\n",
       "      <td>4.415883</td>\n",
       "      <td>BLASER</td>\n",
       "      <td>604</td>\n",
       "      <td>35</td>\n",
       "      <td>True</td>\n",
       "    </tr>\n",
       "    <tr>\n",
       "      <th>605</th>\n",
       "      <td>czech</td>\n",
       "      <td>4.099782</td>\n",
       "      <td>4.030355</td>\n",
       "      <td>BLASER</td>\n",
       "      <td>605</td>\n",
       "      <td>35</td>\n",
       "      <td>True</td>\n",
       "    </tr>\n",
       "    <tr>\n",
       "      <th>...</th>\n",
       "      <td>...</td>\n",
       "      <td>...</td>\n",
       "      <td>...</td>\n",
       "      <td>...</td>\n",
       "      <td>...</td>\n",
       "      <td>...</td>\n",
       "      <td>...</td>\n",
       "    </tr>\n",
       "    <tr>\n",
       "      <th>996</th>\n",
       "      <td>italian</td>\n",
       "      <td>74.188438</td>\n",
       "      <td>100.0</td>\n",
       "      <td>ChrF2</td>\n",
       "      <td>996</td>\n",
       "      <td>35</td>\n",
       "      <td>False</td>\n",
       "    </tr>\n",
       "    <tr>\n",
       "      <th>997</th>\n",
       "      <td>italian</td>\n",
       "      <td>69.348646</td>\n",
       "      <td>100.0</td>\n",
       "      <td>ChrF2</td>\n",
       "      <td>997</td>\n",
       "      <td>35</td>\n",
       "      <td>False</td>\n",
       "    </tr>\n",
       "    <tr>\n",
       "      <th>998</th>\n",
       "      <td>italian</td>\n",
       "      <td>51.522835</td>\n",
       "      <td>100.0</td>\n",
       "      <td>ChrF2</td>\n",
       "      <td>998</td>\n",
       "      <td>35</td>\n",
       "      <td>False</td>\n",
       "    </tr>\n",
       "    <tr>\n",
       "      <th>999</th>\n",
       "      <td>italian</td>\n",
       "      <td>93.826029</td>\n",
       "      <td>100.0</td>\n",
       "      <td>ChrF2</td>\n",
       "      <td>999</td>\n",
       "      <td>35</td>\n",
       "      <td>False</td>\n",
       "    </tr>\n",
       "    <tr>\n",
       "      <th>1000</th>\n",
       "      <td>italian</td>\n",
       "      <td>65.292038</td>\n",
       "      <td>100.0</td>\n",
       "      <td>ChrF2</td>\n",
       "      <td>1000</td>\n",
       "      <td>35</td>\n",
       "      <td>False</td>\n",
       "    </tr>\n",
       "  </tbody>\n",
       "</table>\n",
       "<p>7000 rows × 7 columns</p>\n",
       "</div>"
      ],
      "text/plain": [
       "     source_language   mt_score disfluent_score  metric  sentence_id  \\\n",
       "601            czech   4.097744        3.907722  BLASER          601   \n",
       "602            czech   4.709267        4.441699  BLASER          602   \n",
       "603            czech   4.352407        3.300454  BLASER          603   \n",
       "604            czech    4.54844        4.415883  BLASER          604   \n",
       "605            czech   4.099782        4.030355  BLASER          605   \n",
       "...              ...        ...             ...     ...          ...   \n",
       "996          italian  74.188438           100.0   ChrF2          996   \n",
       "997          italian  69.348646           100.0   ChrF2          997   \n",
       "998          italian  51.522835           100.0   ChrF2          998   \n",
       "999          italian  93.826029           100.0   ChrF2          999   \n",
       "1000         italian  65.292038           100.0   ChrF2         1000   \n",
       "\n",
       "      category  correct  \n",
       "601         35     True  \n",
       "602         35     True  \n",
       "603         35     True  \n",
       "604         35     True  \n",
       "605         35     True  \n",
       "...        ...      ...  \n",
       "996         35    False  \n",
       "997         35    False  \n",
       "998         35    False  \n",
       "999         35    False  \n",
       "1000        35    False  \n",
       "\n",
       "[7000 rows x 7 columns]"
      ]
     },
     "execution_count": 92,
     "metadata": {},
     "output_type": "execute_result"
    }
   ],
   "source": [
    "# Accuracy is reversed for category 35 (reference as translation) so need to adjust that\n",
    "cat_to_rev = all_res.loc[all_res['category'] == 35]\n",
    "cat_to_rev"
   ]
  },
  {
   "cell_type": "code",
   "execution_count": 93,
   "metadata": {},
   "outputs": [
    {
     "name": "stderr",
     "output_type": "stream",
     "text": [
      "/var/folders/z4/mf_7gqbs75d6y4sj_xb9t80w0000gr/T/ipykernel_77707/3866171138.py:1: SettingWithCopyWarning: \n",
      "A value is trying to be set on a copy of a slice from a DataFrame.\n",
      "Try using .loc[row_indexer,col_indexer] = value instead\n",
      "\n",
      "See the caveats in the documentation: https://pandas.pydata.org/pandas-docs/stable/user_guide/indexing.html#returning-a-view-versus-a-copy\n",
      "  cat_to_rev['correct'] = cat_to_rev['mt_score'] < cat_to_rev['disfluent_score']\n"
     ]
    },
    {
     "data": {
      "text/html": [
       "<div>\n",
       "<style scoped>\n",
       "    .dataframe tbody tr th:only-of-type {\n",
       "        vertical-align: middle;\n",
       "    }\n",
       "\n",
       "    .dataframe tbody tr th {\n",
       "        vertical-align: top;\n",
       "    }\n",
       "\n",
       "    .dataframe thead th {\n",
       "        text-align: right;\n",
       "    }\n",
       "</style>\n",
       "<table border=\"1\" class=\"dataframe\">\n",
       "  <thead>\n",
       "    <tr style=\"text-align: right;\">\n",
       "      <th></th>\n",
       "      <th>source_language</th>\n",
       "      <th>mt_score</th>\n",
       "      <th>disfluent_score</th>\n",
       "      <th>metric</th>\n",
       "      <th>sentence_id</th>\n",
       "      <th>category</th>\n",
       "      <th>correct</th>\n",
       "    </tr>\n",
       "  </thead>\n",
       "  <tbody>\n",
       "    <tr>\n",
       "      <th>601</th>\n",
       "      <td>czech</td>\n",
       "      <td>4.097744</td>\n",
       "      <td>3.907722</td>\n",
       "      <td>BLASER</td>\n",
       "      <td>601</td>\n",
       "      <td>35</td>\n",
       "      <td>False</td>\n",
       "    </tr>\n",
       "    <tr>\n",
       "      <th>602</th>\n",
       "      <td>czech</td>\n",
       "      <td>4.709267</td>\n",
       "      <td>4.441699</td>\n",
       "      <td>BLASER</td>\n",
       "      <td>602</td>\n",
       "      <td>35</td>\n",
       "      <td>False</td>\n",
       "    </tr>\n",
       "    <tr>\n",
       "      <th>603</th>\n",
       "      <td>czech</td>\n",
       "      <td>4.352407</td>\n",
       "      <td>3.300454</td>\n",
       "      <td>BLASER</td>\n",
       "      <td>603</td>\n",
       "      <td>35</td>\n",
       "      <td>False</td>\n",
       "    </tr>\n",
       "    <tr>\n",
       "      <th>604</th>\n",
       "      <td>czech</td>\n",
       "      <td>4.54844</td>\n",
       "      <td>4.415883</td>\n",
       "      <td>BLASER</td>\n",
       "      <td>604</td>\n",
       "      <td>35</td>\n",
       "      <td>False</td>\n",
       "    </tr>\n",
       "    <tr>\n",
       "      <th>605</th>\n",
       "      <td>czech</td>\n",
       "      <td>4.099782</td>\n",
       "      <td>4.030355</td>\n",
       "      <td>BLASER</td>\n",
       "      <td>605</td>\n",
       "      <td>35</td>\n",
       "      <td>False</td>\n",
       "    </tr>\n",
       "    <tr>\n",
       "      <th>...</th>\n",
       "      <td>...</td>\n",
       "      <td>...</td>\n",
       "      <td>...</td>\n",
       "      <td>...</td>\n",
       "      <td>...</td>\n",
       "      <td>...</td>\n",
       "      <td>...</td>\n",
       "    </tr>\n",
       "    <tr>\n",
       "      <th>996</th>\n",
       "      <td>italian</td>\n",
       "      <td>74.188438</td>\n",
       "      <td>100.0</td>\n",
       "      <td>ChrF2</td>\n",
       "      <td>996</td>\n",
       "      <td>35</td>\n",
       "      <td>True</td>\n",
       "    </tr>\n",
       "    <tr>\n",
       "      <th>997</th>\n",
       "      <td>italian</td>\n",
       "      <td>69.348646</td>\n",
       "      <td>100.0</td>\n",
       "      <td>ChrF2</td>\n",
       "      <td>997</td>\n",
       "      <td>35</td>\n",
       "      <td>True</td>\n",
       "    </tr>\n",
       "    <tr>\n",
       "      <th>998</th>\n",
       "      <td>italian</td>\n",
       "      <td>51.522835</td>\n",
       "      <td>100.0</td>\n",
       "      <td>ChrF2</td>\n",
       "      <td>998</td>\n",
       "      <td>35</td>\n",
       "      <td>True</td>\n",
       "    </tr>\n",
       "    <tr>\n",
       "      <th>999</th>\n",
       "      <td>italian</td>\n",
       "      <td>93.826029</td>\n",
       "      <td>100.0</td>\n",
       "      <td>ChrF2</td>\n",
       "      <td>999</td>\n",
       "      <td>35</td>\n",
       "      <td>True</td>\n",
       "    </tr>\n",
       "    <tr>\n",
       "      <th>1000</th>\n",
       "      <td>italian</td>\n",
       "      <td>65.292038</td>\n",
       "      <td>100.0</td>\n",
       "      <td>ChrF2</td>\n",
       "      <td>1000</td>\n",
       "      <td>35</td>\n",
       "      <td>True</td>\n",
       "    </tr>\n",
       "  </tbody>\n",
       "</table>\n",
       "<p>7000 rows × 7 columns</p>\n",
       "</div>"
      ],
      "text/plain": [
       "     source_language   mt_score disfluent_score  metric  sentence_id  \\\n",
       "601            czech   4.097744        3.907722  BLASER          601   \n",
       "602            czech   4.709267        4.441699  BLASER          602   \n",
       "603            czech   4.352407        3.300454  BLASER          603   \n",
       "604            czech    4.54844        4.415883  BLASER          604   \n",
       "605            czech   4.099782        4.030355  BLASER          605   \n",
       "...              ...        ...             ...     ...          ...   \n",
       "996          italian  74.188438           100.0   ChrF2          996   \n",
       "997          italian  69.348646           100.0   ChrF2          997   \n",
       "998          italian  51.522835           100.0   ChrF2          998   \n",
       "999          italian  93.826029           100.0   ChrF2          999   \n",
       "1000         italian  65.292038           100.0   ChrF2         1000   \n",
       "\n",
       "      category  correct  \n",
       "601         35    False  \n",
       "602         35    False  \n",
       "603         35    False  \n",
       "604         35    False  \n",
       "605         35    False  \n",
       "...        ...      ...  \n",
       "996         35     True  \n",
       "997         35     True  \n",
       "998         35     True  \n",
       "999         35     True  \n",
       "1000        35     True  \n",
       "\n",
       "[7000 rows x 7 columns]"
      ]
     },
     "execution_count": 93,
     "metadata": {},
     "output_type": "execute_result"
    }
   ],
   "source": [
    "cat_to_rev['correct'] = cat_to_rev['mt_score'] < cat_to_rev['disfluent_score']\n",
    "cat_to_rev"
   ]
  },
  {
   "cell_type": "code",
   "execution_count": 94,
   "metadata": {},
   "outputs": [],
   "source": [
    "# Reassign values to original dataframe\n",
    "all_res.loc[all_res['category'] == 35, 'correct'] = cat_to_rev.correct"
   ]
  },
  {
   "cell_type": "code",
   "execution_count": 95,
   "metadata": {},
   "outputs": [
    {
     "data": {
      "text/html": [
       "<div>\n",
       "<style scoped>\n",
       "    .dataframe tbody tr th:only-of-type {\n",
       "        vertical-align: middle;\n",
       "    }\n",
       "\n",
       "    .dataframe tbody tr th {\n",
       "        vertical-align: top;\n",
       "    }\n",
       "\n",
       "    .dataframe thead th {\n",
       "        text-align: right;\n",
       "    }\n",
       "</style>\n",
       "<table border=\"1\" class=\"dataframe\">\n",
       "  <thead>\n",
       "    <tr style=\"text-align: right;\">\n",
       "      <th></th>\n",
       "      <th>source_language</th>\n",
       "      <th>mt_score</th>\n",
       "      <th>disfluent_score</th>\n",
       "      <th>metric</th>\n",
       "      <th>sentence_id</th>\n",
       "      <th>category</th>\n",
       "      <th>correct</th>\n",
       "    </tr>\n",
       "  </thead>\n",
       "  <tbody>\n",
       "    <tr>\n",
       "      <th>601</th>\n",
       "      <td>czech</td>\n",
       "      <td>4.097744</td>\n",
       "      <td>3.907722</td>\n",
       "      <td>BLASER</td>\n",
       "      <td>601</td>\n",
       "      <td>35</td>\n",
       "      <td>False</td>\n",
       "    </tr>\n",
       "    <tr>\n",
       "      <th>602</th>\n",
       "      <td>czech</td>\n",
       "      <td>4.709267</td>\n",
       "      <td>4.441699</td>\n",
       "      <td>BLASER</td>\n",
       "      <td>602</td>\n",
       "      <td>35</td>\n",
       "      <td>False</td>\n",
       "    </tr>\n",
       "    <tr>\n",
       "      <th>603</th>\n",
       "      <td>czech</td>\n",
       "      <td>4.352407</td>\n",
       "      <td>3.300454</td>\n",
       "      <td>BLASER</td>\n",
       "      <td>603</td>\n",
       "      <td>35</td>\n",
       "      <td>False</td>\n",
       "    </tr>\n",
       "    <tr>\n",
       "      <th>604</th>\n",
       "      <td>czech</td>\n",
       "      <td>4.54844</td>\n",
       "      <td>4.415883</td>\n",
       "      <td>BLASER</td>\n",
       "      <td>604</td>\n",
       "      <td>35</td>\n",
       "      <td>False</td>\n",
       "    </tr>\n",
       "    <tr>\n",
       "      <th>605</th>\n",
       "      <td>czech</td>\n",
       "      <td>4.099782</td>\n",
       "      <td>4.030355</td>\n",
       "      <td>BLASER</td>\n",
       "      <td>605</td>\n",
       "      <td>35</td>\n",
       "      <td>False</td>\n",
       "    </tr>\n",
       "    <tr>\n",
       "      <th>...</th>\n",
       "      <td>...</td>\n",
       "      <td>...</td>\n",
       "      <td>...</td>\n",
       "      <td>...</td>\n",
       "      <td>...</td>\n",
       "      <td>...</td>\n",
       "      <td>...</td>\n",
       "    </tr>\n",
       "    <tr>\n",
       "      <th>996</th>\n",
       "      <td>italian</td>\n",
       "      <td>74.188438</td>\n",
       "      <td>100.0</td>\n",
       "      <td>ChrF2</td>\n",
       "      <td>996</td>\n",
       "      <td>35</td>\n",
       "      <td>True</td>\n",
       "    </tr>\n",
       "    <tr>\n",
       "      <th>997</th>\n",
       "      <td>italian</td>\n",
       "      <td>69.348646</td>\n",
       "      <td>100.0</td>\n",
       "      <td>ChrF2</td>\n",
       "      <td>997</td>\n",
       "      <td>35</td>\n",
       "      <td>True</td>\n",
       "    </tr>\n",
       "    <tr>\n",
       "      <th>998</th>\n",
       "      <td>italian</td>\n",
       "      <td>51.522835</td>\n",
       "      <td>100.0</td>\n",
       "      <td>ChrF2</td>\n",
       "      <td>998</td>\n",
       "      <td>35</td>\n",
       "      <td>True</td>\n",
       "    </tr>\n",
       "    <tr>\n",
       "      <th>999</th>\n",
       "      <td>italian</td>\n",
       "      <td>93.826029</td>\n",
       "      <td>100.0</td>\n",
       "      <td>ChrF2</td>\n",
       "      <td>999</td>\n",
       "      <td>35</td>\n",
       "      <td>True</td>\n",
       "    </tr>\n",
       "    <tr>\n",
       "      <th>1000</th>\n",
       "      <td>italian</td>\n",
       "      <td>65.292038</td>\n",
       "      <td>100.0</td>\n",
       "      <td>ChrF2</td>\n",
       "      <td>1000</td>\n",
       "      <td>35</td>\n",
       "      <td>True</td>\n",
       "    </tr>\n",
       "  </tbody>\n",
       "</table>\n",
       "<p>7000 rows × 7 columns</p>\n",
       "</div>"
      ],
      "text/plain": [
       "     source_language   mt_score disfluent_score  metric  sentence_id  \\\n",
       "601            czech   4.097744        3.907722  BLASER          601   \n",
       "602            czech   4.709267        4.441699  BLASER          602   \n",
       "603            czech   4.352407        3.300454  BLASER          603   \n",
       "604            czech    4.54844        4.415883  BLASER          604   \n",
       "605            czech   4.099782        4.030355  BLASER          605   \n",
       "...              ...        ...             ...     ...          ...   \n",
       "996          italian  74.188438           100.0   ChrF2          996   \n",
       "997          italian  69.348646           100.0   ChrF2          997   \n",
       "998          italian  51.522835           100.0   ChrF2          998   \n",
       "999          italian  93.826029           100.0   ChrF2          999   \n",
       "1000         italian  65.292038           100.0   ChrF2         1000   \n",
       "\n",
       "      category  correct  \n",
       "601         35    False  \n",
       "602         35    False  \n",
       "603         35    False  \n",
       "604         35    False  \n",
       "605         35    False  \n",
       "...        ...      ...  \n",
       "996         35     True  \n",
       "997         35     True  \n",
       "998         35     True  \n",
       "999         35     True  \n",
       "1000        35     True  \n",
       "\n",
       "[7000 rows x 7 columns]"
      ]
     },
     "execution_count": 95,
     "metadata": {},
     "output_type": "execute_result"
    }
   ],
   "source": [
    "# Check result\n",
    "all_res.loc[all_res['category'] == 35]"
   ]
  },
  {
   "cell_type": "code",
   "execution_count": 96,
   "metadata": {},
   "outputs": [],
   "source": [
    "# Add column for severity\n",
    "all_res['severity'] = all_res['category'].map(cat_severity)"
   ]
  },
  {
   "cell_type": "code",
   "execution_count": 97,
   "metadata": {},
   "outputs": [
    {
     "data": {
      "text/html": [
       "<div>\n",
       "<style scoped>\n",
       "    .dataframe tbody tr th:only-of-type {\n",
       "        vertical-align: middle;\n",
       "    }\n",
       "\n",
       "    .dataframe tbody tr th {\n",
       "        vertical-align: top;\n",
       "    }\n",
       "\n",
       "    .dataframe thead th {\n",
       "        text-align: right;\n",
       "    }\n",
       "</style>\n",
       "<table border=\"1\" class=\"dataframe\">\n",
       "  <thead>\n",
       "    <tr style=\"text-align: right;\">\n",
       "      <th></th>\n",
       "      <th>source_language</th>\n",
       "      <th>mt_score</th>\n",
       "      <th>disfluent_score</th>\n",
       "      <th>metric</th>\n",
       "      <th>sentence_id</th>\n",
       "      <th>category</th>\n",
       "      <th>correct</th>\n",
       "      <th>severity</th>\n",
       "    </tr>\n",
       "  </thead>\n",
       "  <tbody>\n",
       "    <tr>\n",
       "      <th>1</th>\n",
       "      <td>chinese_simple</td>\n",
       "      <td>73.613919</td>\n",
       "      <td>19.173356</td>\n",
       "      <td>ChrF1</td>\n",
       "      <td>1</td>\n",
       "      <td>33</td>\n",
       "      <td>True</td>\n",
       "      <td>base</td>\n",
       "    </tr>\n",
       "    <tr>\n",
       "      <th>2</th>\n",
       "      <td>chinese_simple</td>\n",
       "      <td>82.892551</td>\n",
       "      <td>17.013595</td>\n",
       "      <td>ChrF1</td>\n",
       "      <td>2</td>\n",
       "      <td>33</td>\n",
       "      <td>True</td>\n",
       "      <td>base</td>\n",
       "    </tr>\n",
       "    <tr>\n",
       "      <th>3</th>\n",
       "      <td>chinese_simple</td>\n",
       "      <td>71.757296</td>\n",
       "      <td>18.575202</td>\n",
       "      <td>ChrF1</td>\n",
       "      <td>3</td>\n",
       "      <td>33</td>\n",
       "      <td>True</td>\n",
       "      <td>base</td>\n",
       "    </tr>\n",
       "    <tr>\n",
       "      <th>4</th>\n",
       "      <td>chinese_simple</td>\n",
       "      <td>72.900449</td>\n",
       "      <td>13.572237</td>\n",
       "      <td>ChrF1</td>\n",
       "      <td>4</td>\n",
       "      <td>33</td>\n",
       "      <td>True</td>\n",
       "      <td>base</td>\n",
       "    </tr>\n",
       "    <tr>\n",
       "      <th>5</th>\n",
       "      <td>chinese_simple</td>\n",
       "      <td>53.857323</td>\n",
       "      <td>18.03467</td>\n",
       "      <td>ChrF1</td>\n",
       "      <td>5</td>\n",
       "      <td>33</td>\n",
       "      <td>True</td>\n",
       "      <td>base</td>\n",
       "    </tr>\n",
       "  </tbody>\n",
       "</table>\n",
       "</div>"
      ],
      "text/plain": [
       "  source_language   mt_score disfluent_score metric  sentence_id  category  \\\n",
       "1  chinese_simple  73.613919       19.173356  ChrF1            1        33   \n",
       "2  chinese_simple  82.892551       17.013595  ChrF1            2        33   \n",
       "3  chinese_simple  71.757296       18.575202  ChrF1            3        33   \n",
       "4  chinese_simple  72.900449       13.572237  ChrF1            4        33   \n",
       "5  chinese_simple  53.857323        18.03467  ChrF1            5        33   \n",
       "\n",
       "   correct severity  \n",
       "1     True     base  \n",
       "2     True     base  \n",
       "3     True     base  \n",
       "4     True     base  \n",
       "5     True     base  "
      ]
     },
     "execution_count": 97,
     "metadata": {},
     "output_type": "execute_result"
    }
   ],
   "source": [
    "all_res.head(5)"
   ]
  },
  {
   "cell_type": "code",
   "execution_count": 32,
   "metadata": {},
   "outputs": [],
   "source": [
    "all_res.to_csv(\"../outputs/demetr/all/all.csv\", index=False)"
   ]
  },
  {
   "cell_type": "code",
   "execution_count": 98,
   "metadata": {},
   "outputs": [
    {
     "data": {
      "text/plain": [
       "Text(0.5, 1.0, 'Mean performance across all 35 categories')"
      ]
     },
     "execution_count": 98,
     "metadata": {},
     "output_type": "execute_result"
    },
    {
     "data": {
      "image/png": "[encoded data removed]",
      "text/plain": [
       "<Figure size 640x480 with 1 Axes>"
      ]
     },
     "metadata": {},
     "output_type": "display_data"
    }
   ],
   "source": [
    "fig, axs = plt.subplots()\n",
    "by_language = all_res.groupby('source_language')['correct'].mean()\n",
    "axs.plot(by_language, 'x')\n",
    "plt.xticks(np.arange(10), by_language.index, rotation=45)\n",
    "plt.ylabel('DEMETR accuracy (%)')\n",
    "plt.xlabel('Source language')\n",
    "plt.title('Mean performance across all 35 categories')"
   ]
  },
  {
   "cell_type": "code",
   "execution_count": 99,
   "metadata": {},
   "outputs": [
    {
     "data": {
      "text/plain": [
       "Text(0.5, 1.0, 'Mean performance for each error type')"
      ]
     },
     "execution_count": 99,
     "metadata": {},
     "output_type": "execute_result"
    },
    {
     "data": {
      "image/png": "[encoded data removed]",
      "text/plain": [
       "<Figure size 640x480 with 1 Axes>"
      ]
     },
     "metadata": {},
     "output_type": "display_data"
    }
   ],
   "source": [
    "fig, axs = plt.subplots()\n",
    "by_severity = all_res.groupby('severity')['correct'].mean()\n",
    "by_severity.plot(kind='bar')\n",
    "plt.xticks(np.arange(4), by_severity.index, rotation=0)\n",
    "plt.ylabel('DEMETR accuracy')\n",
    "plt.xlabel('Severity')\n",
    "plt.title('Mean performance for each error type')"
   ]
  },
  {
   "cell_type": "code",
   "execution_count": 35,
   "metadata": {},
   "outputs": [
    {
     "data": {
      "text/plain": [
       "<matplotlib.legend.Legend at 0x16c5aa890>"
      ]
     },
     "execution_count": 35,
     "metadata": {},
     "output_type": "execute_result"
    },
    {
     "data": {
      "image/png": "[encoded data removed]",
      "text/plain": [
       "<Figure size 640x480 with 1 Axes>"
      ]
     },
     "metadata": {},
     "output_type": "display_data"
    }
   ],
   "source": [
    "fig, axs = plt.subplots()\n",
    "sev_by_lang = all_res.groupby(['source_language', 'severity'])['correct'].mean()\n",
    "sev_by_lang.unstack().plot(kind='bar', ax=axs)\n",
    "plt.xticks(rotation=45)\n",
    "plt.ylabel('DEMETR accuracy')\n",
    "plt.xlabel('Source language')\n",
    "plt.title('Mean performance for each severity level, by language')\n",
    "plt.legend(loc='right', bbox_to_anchor=(1.25, 0.5))\n",
    "\n",
    "\n"
   ]
  },
  {
   "cell_type": "code",
   "execution_count": 258,
   "metadata": {},
   "outputs": [
    {
     "data": {
      "text/plain": [
       "<matplotlib.legend.Legend at 0x32ba57410>"
      ]
     },
     "execution_count": 258,
     "metadata": {},
     "output_type": "execute_result"
    },
    {
     "data": {
      "image/png": "[encoded data removed]",
      "text/plain": [
       "<Figure size 640x480 with 1 Axes>"
      ]
     },
     "metadata": {},
     "output_type": "display_data"
    }
   ],
   "source": [
    "fig, axs = plt.subplots()\n",
    "sev_by_lang = all_res.groupby(['source_language', 'metric'])['correct'].mean()\n",
    "sev_by_lang.unstack().plot(kind='bar', ax=axs)\n",
    "plt.xticks(rotation=45)\n",
    "plt.ylabel('DEMETR accuracy')\n",
    "plt.xlabel('Source language')\n",
    "plt.title('Mean performance for each metric, by language')\n",
    "plt.legend(loc='right', bbox_to_anchor=(1.25, 0.5))\n"
   ]
  },
  {
   "cell_type": "code",
   "execution_count": 36,
   "metadata": {},
   "outputs": [
    {
     "data": {
      "text/plain": [
       "<matplotlib.legend.Legend at 0x169719490>"
      ]
     },
     "execution_count": 36,
     "metadata": {},
     "output_type": "execute_result"
    },
    {
     "data": {
      "image/png": "[encoded data removed]",
      "text/plain": [
       "<Figure size 640x480 with 1 Axes>"
      ]
     },
     "metadata": {},
     "output_type": "display_data"
    }
   ],
   "source": [
    "fig, axs = plt.subplots()\n",
    "sev_by_lang = all_res.groupby(['metric', 'severity'])['correct'].mean()\n",
    "sev_by_lang.unstack().plot(kind='bar', ax=axs)\n",
    "plt.xticks(rotation=0)\n",
    "plt.ylabel('DEMETR accuracy')\n",
    "plt.xlabel('Metric')\n",
    "plt.title('Mean performance for each severity level by metric')\n",
    "plt.legend(loc='right', bbox_to_anchor=(1.25, 0.5))"
   ]
  },
  {
   "cell_type": "markdown",
   "metadata": {},
   "source": [
    "### Comparison between M4ST and original paper"
   ]
  },
  {
   "cell_type": "code",
   "execution_count": 37,
   "metadata": {},
   "outputs": [
    {
     "data": {
      "text/html": [
       "<div>\n",
       "<style scoped>\n",
       "    .dataframe tbody tr th:only-of-type {\n",
       "        vertical-align: middle;\n",
       "    }\n",
       "\n",
       "    .dataframe tbody tr th {\n",
       "        vertical-align: top;\n",
       "    }\n",
       "\n",
       "    .dataframe thead th {\n",
       "        text-align: right;\n",
       "    }\n",
       "</style>\n",
       "<table border=\"1\" class=\"dataframe\">\n",
       "  <thead>\n",
       "    <tr style=\"text-align: right;\">\n",
       "      <th></th>\n",
       "      <th>metric</th>\n",
       "      <th>type</th>\n",
       "      <th>accuracy</th>\n",
       "      <th>category</th>\n",
       "    </tr>\n",
       "  </thead>\n",
       "  <tbody>\n",
       "    <tr>\n",
       "      <th>9</th>\n",
       "      <td>Comet</td>\n",
       "      <td>learned</td>\n",
       "      <td>99.1</td>\n",
       "      <td>1</td>\n",
       "    </tr>\n",
       "    <tr>\n",
       "      <th>22</th>\n",
       "      <td>Comet</td>\n",
       "      <td>learned</td>\n",
       "      <td>100.0</td>\n",
       "      <td>2</td>\n",
       "    </tr>\n",
       "    <tr>\n",
       "      <th>35</th>\n",
       "      <td>Comet</td>\n",
       "      <td>learned</td>\n",
       "      <td>91.2</td>\n",
       "      <td>3</td>\n",
       "    </tr>\n",
       "    <tr>\n",
       "      <th>48</th>\n",
       "      <td>Comet</td>\n",
       "      <td>learned</td>\n",
       "      <td>99.2</td>\n",
       "      <td>4</td>\n",
       "    </tr>\n",
       "    <tr>\n",
       "      <th>61</th>\n",
       "      <td>Comet</td>\n",
       "      <td>learned</td>\n",
       "      <td>95.5</td>\n",
       "      <td>5</td>\n",
       "    </tr>\n",
       "  </tbody>\n",
       "</table>\n",
       "</div>"
      ],
      "text/plain": [
       "   metric     type  accuracy  category\n",
       "9   Comet  learned      99.1         1\n",
       "22  Comet  learned     100.0         2\n",
       "35  Comet  learned      91.2         3\n",
       "48  Comet  learned      99.2         4\n",
       "61  Comet  learned      95.5         5"
      ]
     },
     "execution_count": 37,
     "metadata": {},
     "output_type": "execute_result"
    }
   ],
   "source": [
    "comet_baseline.head(5)"
   ]
  },
  {
   "cell_type": "code",
   "execution_count": 38,
   "metadata": {},
   "outputs": [
    {
     "data": {
      "text/html": [
       "<div>\n",
       "<style scoped>\n",
       "    .dataframe tbody tr th:only-of-type {\n",
       "        vertical-align: middle;\n",
       "    }\n",
       "\n",
       "    .dataframe tbody tr th {\n",
       "        vertical-align: top;\n",
       "    }\n",
       "\n",
       "    .dataframe thead th {\n",
       "        text-align: right;\n",
       "    }\n",
       "</style>\n",
       "<table border=\"1\" class=\"dataframe\">\n",
       "  <thead>\n",
       "    <tr style=\"text-align: right;\">\n",
       "      <th></th>\n",
       "      <th>metric</th>\n",
       "      <th>type</th>\n",
       "      <th>accuracy</th>\n",
       "      <th>category</th>\n",
       "    </tr>\n",
       "  </thead>\n",
       "  <tbody>\n",
       "    <tr>\n",
       "      <th>0</th>\n",
       "      <td>Bleu</td>\n",
       "      <td>string</td>\n",
       "      <td>93.2</td>\n",
       "      <td>1</td>\n",
       "    </tr>\n",
       "    <tr>\n",
       "      <th>13</th>\n",
       "      <td>Bleu</td>\n",
       "      <td>string</td>\n",
       "      <td>95.7</td>\n",
       "      <td>2</td>\n",
       "    </tr>\n",
       "    <tr>\n",
       "      <th>26</th>\n",
       "      <td>Bleu</td>\n",
       "      <td>string</td>\n",
       "      <td>69.5</td>\n",
       "      <td>3</td>\n",
       "    </tr>\n",
       "    <tr>\n",
       "      <th>39</th>\n",
       "      <td>Bleu</td>\n",
       "      <td>string</td>\n",
       "      <td>73.1</td>\n",
       "      <td>4</td>\n",
       "    </tr>\n",
       "    <tr>\n",
       "      <th>52</th>\n",
       "      <td>Bleu</td>\n",
       "      <td>string</td>\n",
       "      <td>79.2</td>\n",
       "      <td>5</td>\n",
       "    </tr>\n",
       "  </tbody>\n",
       "</table>\n",
       "</div>"
      ],
      "text/plain": [
       "   metric    type  accuracy  category\n",
       "0    Bleu  string      93.2         1\n",
       "13   Bleu  string      95.7         2\n",
       "26   Bleu  string      69.5         3\n",
       "39   Bleu  string      73.1         4\n",
       "52   Bleu  string      79.2         5"
      ]
     },
     "execution_count": 38,
     "metadata": {},
     "output_type": "execute_result"
    }
   ],
   "source": [
    "bleu_baseline.head(5)"
   ]
  },
  {
   "cell_type": "code",
   "execution_count": 39,
   "metadata": {},
   "outputs": [
    {
     "data": {
      "text/html": [
       "<div>\n",
       "<style scoped>\n",
       "    .dataframe tbody tr th:only-of-type {\n",
       "        vertical-align: middle;\n",
       "    }\n",
       "\n",
       "    .dataframe tbody tr th {\n",
       "        vertical-align: top;\n",
       "    }\n",
       "\n",
       "    .dataframe thead th {\n",
       "        text-align: right;\n",
       "    }\n",
       "</style>\n",
       "<table border=\"1\" class=\"dataframe\">\n",
       "  <thead>\n",
       "    <tr style=\"text-align: right;\">\n",
       "      <th></th>\n",
       "      <th>source_language</th>\n",
       "      <th>mt_score</th>\n",
       "      <th>disfluent_score</th>\n",
       "      <th>metric</th>\n",
       "      <th>sentence_id</th>\n",
       "      <th>category</th>\n",
       "      <th>correct</th>\n",
       "      <th>severity</th>\n",
       "    </tr>\n",
       "  </thead>\n",
       "  <tbody>\n",
       "    <tr>\n",
       "      <th>1</th>\n",
       "      <td>chinese_simple</td>\n",
       "      <td>73.613919</td>\n",
       "      <td>19.173356</td>\n",
       "      <td>ChrF1</td>\n",
       "      <td>1</td>\n",
       "      <td>33</td>\n",
       "      <td>True</td>\n",
       "      <td>base</td>\n",
       "    </tr>\n",
       "    <tr>\n",
       "      <th>2</th>\n",
       "      <td>chinese_simple</td>\n",
       "      <td>82.892551</td>\n",
       "      <td>17.013595</td>\n",
       "      <td>ChrF1</td>\n",
       "      <td>2</td>\n",
       "      <td>33</td>\n",
       "      <td>True</td>\n",
       "      <td>base</td>\n",
       "    </tr>\n",
       "    <tr>\n",
       "      <th>3</th>\n",
       "      <td>chinese_simple</td>\n",
       "      <td>71.757296</td>\n",
       "      <td>18.575202</td>\n",
       "      <td>ChrF1</td>\n",
       "      <td>3</td>\n",
       "      <td>33</td>\n",
       "      <td>True</td>\n",
       "      <td>base</td>\n",
       "    </tr>\n",
       "    <tr>\n",
       "      <th>4</th>\n",
       "      <td>chinese_simple</td>\n",
       "      <td>72.900449</td>\n",
       "      <td>13.572237</td>\n",
       "      <td>ChrF1</td>\n",
       "      <td>4</td>\n",
       "      <td>33</td>\n",
       "      <td>True</td>\n",
       "      <td>base</td>\n",
       "    </tr>\n",
       "    <tr>\n",
       "      <th>5</th>\n",
       "      <td>chinese_simple</td>\n",
       "      <td>53.857323</td>\n",
       "      <td>18.03467</td>\n",
       "      <td>ChrF1</td>\n",
       "      <td>5</td>\n",
       "      <td>33</td>\n",
       "      <td>True</td>\n",
       "      <td>base</td>\n",
       "    </tr>\n",
       "  </tbody>\n",
       "</table>\n",
       "</div>"
      ],
      "text/plain": [
       "  source_language   mt_score disfluent_score metric  sentence_id  category  \\\n",
       "1  chinese_simple  73.613919       19.173356  ChrF1            1        33   \n",
       "2  chinese_simple  82.892551       17.013595  ChrF1            2        33   \n",
       "3  chinese_simple  71.757296       18.575202  ChrF1            3        33   \n",
       "4  chinese_simple  72.900449       13.572237  ChrF1            4        33   \n",
       "5  chinese_simple  53.857323        18.03467  ChrF1            5        33   \n",
       "\n",
       "   correct severity  \n",
       "1     True     base  \n",
       "2     True     base  \n",
       "3     True     base  \n",
       "4     True     base  \n",
       "5     True     base  "
      ]
     },
     "execution_count": 39,
     "metadata": {},
     "output_type": "execute_result"
    }
   ],
   "source": [
    "all_res.head(5)"
   ]
  },
  {
   "cell_type": "code",
   "execution_count": 40,
   "metadata": {},
   "outputs": [],
   "source": [
    "m4st_blaser = all_res[all_res.metric == \"BLASER\"].groupby('category').correct.mean()*100\n",
    "m4st_comet = all_res[all_res.metric == \"COMET\"].groupby('category').correct.mean()*100\n",
    "m4st_bleu = all_res[all_res.metric == \"Bleu\"].groupby('category').correct.mean()*100"
   ]
  },
  {
   "cell_type": "code",
   "execution_count": 41,
   "metadata": {},
   "outputs": [],
   "source": [
    "diff_paper = np.array(m4st_blaser) - np.array(comet_baseline.accuracy)\n",
    "diff_new = np.array(m4st_blaser) - np.array(m4st_comet)"
   ]
  },
  {
   "cell_type": "code",
   "execution_count": 42,
   "metadata": {},
   "outputs": [
    {
     "data": {
      "text/plain": [
       "Text(0.5, 0, 'DEMETR category')"
      ]
     },
     "execution_count": 42,
     "metadata": {},
     "output_type": "execute_result"
    },
    {
     "data": {
      "image/png": "[encoded data removed]",
      "text/plain": [
       "<Figure size 1000x500 with 2 Axes>"
      ]
     },
     "metadata": {},
     "output_type": "display_data"
    }
   ],
   "source": [
    "fig, axs = plt.subplots(1, 2, figsize=(10, 5))\n",
    "\n",
    "axs[0].plot(list(range(1, 36)), diff_paper, 'ko')\n",
    "axs[0].axhline(0, linestyle='--', c='r')\n",
    "axs[0].set_title(\"BLASER-2 vs. COMET (Baseline)\")\n",
    "axs[0].set_ylabel(\"Difference (BLASER-2 - COMET)\")\n",
    "axs[0].set_xlabel(\"DEMETR category\")\n",
    "\n",
    "axs[1].plot(list(range(1, 36)), diff_new, 'ko')\n",
    "axs[1].axhline(0, linestyle='--', c='r')\n",
    "axs[1].set_title(\"BLASER-2 vs. COMET (M4ST)\")\n",
    "axs[1].set_ylabel(\"Difference (BLASER-2 - COMET)\")\n",
    "axs[1].set_xlabel(\"DEMETR category\")"
   ]
  },
  {
   "cell_type": "code",
   "execution_count": 43,
   "metadata": {},
   "outputs": [],
   "source": [
    "diff_paper = np.array(m4st_blaser) - np.array(bleu_baseline.accuracy)\n",
    "diff_new = np.array(m4st_blaser) - np.array(m4st_bleu)"
   ]
  },
  {
   "cell_type": "code",
   "execution_count": 44,
   "metadata": {},
   "outputs": [
    {
     "data": {
      "text/plain": [
       "Text(0.5, 0, 'DEMETR category')"
      ]
     },
     "execution_count": 44,
     "metadata": {},
     "output_type": "execute_result"
    },
    {
     "data": {
      "image/png": "[encoded data removed]",
      "text/plain": [
       "<Figure size 1000x500 with 2 Axes>"
      ]
     },
     "metadata": {},
     "output_type": "display_data"
    }
   ],
   "source": [
    "fig, axs = plt.subplots(1, 2, figsize=(10, 5))\n",
    "\n",
    "axs[0].plot(list(range(1, 36)), diff_paper, 'ko')\n",
    "axs[0].axhline(0, linestyle='--', c='r')\n",
    "axs[0].set_title(\"BLASER-2 vs. Bleu (Baseline)\")\n",
    "axs[0].set_ylabel(\"Difference (BLASER-2 - Bleu)\")\n",
    "axs[0].set_xlabel(\"DEMETR category\")\n",
    "\n",
    "axs[1].plot(list(range(1, 36)), diff_new, 'ko')\n",
    "axs[1].axhline(0, linestyle='--', c='r')\n",
    "axs[1].set_title(\"BLASER-2 vs. Bleu (M4ST)\")\n",
    "axs[1].set_ylabel(\"Difference (BLASER-2 - Bleu)\")\n",
    "axs[1].set_xlabel(\"DEMETR category\")"
   ]
  },
  {
   "cell_type": "markdown",
   "metadata": {},
   "source": [
    "### Compare BLASER to Bleu/COMET"
   ]
  },
  {
   "cell_type": "code",
   "execution_count": 69,
   "metadata": {},
   "outputs": [
    {
     "data": {
      "text/html": [
       "<div>\n",
       "<style scoped>\n",
       "    .dataframe tbody tr th:only-of-type {\n",
       "        vertical-align: middle;\n",
       "    }\n",
       "\n",
       "    .dataframe tbody tr th {\n",
       "        vertical-align: top;\n",
       "    }\n",
       "\n",
       "    .dataframe thead th {\n",
       "        text-align: right;\n",
       "    }\n",
       "</style>\n",
       "<table border=\"1\" class=\"dataframe\">\n",
       "  <thead>\n",
       "    <tr style=\"text-align: right;\">\n",
       "      <th></th>\n",
       "      <th>metric</th>\n",
       "      <th>type</th>\n",
       "      <th>accuracy</th>\n",
       "      <th>category</th>\n",
       "    </tr>\n",
       "  </thead>\n",
       "  <tbody>\n",
       "    <tr>\n",
       "      <th>0</th>\n",
       "      <td>Bleu</td>\n",
       "      <td>string</td>\n",
       "      <td>93.2</td>\n",
       "      <td>1</td>\n",
       "    </tr>\n",
       "  </tbody>\n",
       "</table>\n",
       "</div>"
      ],
      "text/plain": [
       "  metric    type  accuracy  category\n",
       "0   Bleu  string      93.2         1"
      ]
     },
     "execution_count": 69,
     "metadata": {},
     "output_type": "execute_result"
    }
   ],
   "source": [
    "demetr_df.head(1)"
   ]
  },
  {
   "cell_type": "code",
   "execution_count": 70,
   "metadata": {},
   "outputs": [],
   "source": [
    "demetr_df['metric'] = demetr_df.metric.replace({'Comet': 'COMET', 'ChrF': 'ChrF1'})"
   ]
  },
  {
   "cell_type": "code",
   "execution_count": 71,
   "metadata": {},
   "outputs": [
    {
     "data": {
      "text/plain": [
       "array(['BLASER', 'Bleu', 'COMET', 'ChrF1', 'ChrF2'], dtype=object)"
      ]
     },
     "execution_count": 71,
     "metadata": {},
     "output_type": "execute_result"
    }
   ],
   "source": [
    "np.unique(all_res.metric)"
   ]
  },
  {
   "cell_type": "code",
   "execution_count": 72,
   "metadata": {},
   "outputs": [
    {
     "data": {
      "text/plain": [
       "array(['BERTScore', 'Bleu', 'Bleurt20', 'CER', 'COMET', 'ChrF1', 'ChrF2',\n",
       "       'Comet-QE', 'Meteor', 'PRISM', 'Prism', 'Prism-QE', 'Rouge2',\n",
       "       'TER'], dtype=object)"
      ]
     },
     "execution_count": 72,
     "metadata": {},
     "output_type": "execute_result"
    }
   ],
   "source": [
    "np.unique(demetr_df.metric)"
   ]
  },
  {
   "cell_type": "code",
   "execution_count": 73,
   "metadata": {},
   "outputs": [],
   "source": [
    "# Subset DEMETR paper results to match the metrics I used\n",
    "demetr_df_match = demetr_df[demetr_df.metric.isin(np.unique(all_res.metric))]"
   ]
  },
  {
   "cell_type": "code",
   "execution_count": 74,
   "metadata": {},
   "outputs": [
    {
     "data": {
      "text/html": [
       "<div>\n",
       "<style scoped>\n",
       "    .dataframe tbody tr th:only-of-type {\n",
       "        vertical-align: middle;\n",
       "    }\n",
       "\n",
       "    .dataframe tbody tr th {\n",
       "        vertical-align: top;\n",
       "    }\n",
       "\n",
       "    .dataframe thead th {\n",
       "        text-align: right;\n",
       "    }\n",
       "</style>\n",
       "<table border=\"1\" class=\"dataframe\">\n",
       "  <thead>\n",
       "    <tr style=\"text-align: right;\">\n",
       "      <th></th>\n",
       "      <th>metric</th>\n",
       "      <th>type</th>\n",
       "      <th>accuracy</th>\n",
       "      <th>category</th>\n",
       "    </tr>\n",
       "  </thead>\n",
       "  <tbody>\n",
       "    <tr>\n",
       "      <th>0</th>\n",
       "      <td>Bleu</td>\n",
       "      <td>string</td>\n",
       "      <td>93.2</td>\n",
       "      <td>1</td>\n",
       "    </tr>\n",
       "    <tr>\n",
       "      <th>2</th>\n",
       "      <td>ChrF1</td>\n",
       "      <td>string</td>\n",
       "      <td>89.9</td>\n",
       "      <td>1</td>\n",
       "    </tr>\n",
       "    <tr>\n",
       "      <th>3</th>\n",
       "      <td>ChrF2</td>\n",
       "      <td>string</td>\n",
       "      <td>92.7</td>\n",
       "      <td>1</td>\n",
       "    </tr>\n",
       "    <tr>\n",
       "      <th>9</th>\n",
       "      <td>COMET</td>\n",
       "      <td>learned</td>\n",
       "      <td>99.1</td>\n",
       "      <td>1</td>\n",
       "    </tr>\n",
       "    <tr>\n",
       "      <th>13</th>\n",
       "      <td>Bleu</td>\n",
       "      <td>string</td>\n",
       "      <td>95.7</td>\n",
       "      <td>2</td>\n",
       "    </tr>\n",
       "    <tr>\n",
       "      <th>...</th>\n",
       "      <td>...</td>\n",
       "      <td>...</td>\n",
       "      <td>...</td>\n",
       "      <td>...</td>\n",
       "    </tr>\n",
       "    <tr>\n",
       "      <th>438</th>\n",
       "      <td>COMET</td>\n",
       "      <td>learned</td>\n",
       "      <td>100.0</td>\n",
       "      <td>34</td>\n",
       "    </tr>\n",
       "    <tr>\n",
       "      <th>442</th>\n",
       "      <td>Bleu</td>\n",
       "      <td>string</td>\n",
       "      <td>100.0</td>\n",
       "      <td>35</td>\n",
       "    </tr>\n",
       "    <tr>\n",
       "      <th>444</th>\n",
       "      <td>ChrF1</td>\n",
       "      <td>string</td>\n",
       "      <td>100.0</td>\n",
       "      <td>35</td>\n",
       "    </tr>\n",
       "    <tr>\n",
       "      <th>445</th>\n",
       "      <td>ChrF2</td>\n",
       "      <td>string</td>\n",
       "      <td>100.0</td>\n",
       "      <td>35</td>\n",
       "    </tr>\n",
       "    <tr>\n",
       "      <th>451</th>\n",
       "      <td>COMET</td>\n",
       "      <td>learned</td>\n",
       "      <td>100.0</td>\n",
       "      <td>35</td>\n",
       "    </tr>\n",
       "  </tbody>\n",
       "</table>\n",
       "<p>140 rows × 4 columns</p>\n",
       "</div>"
      ],
      "text/plain": [
       "    metric     type  accuracy  category\n",
       "0     Bleu   string      93.2         1\n",
       "2    ChrF1   string      89.9         1\n",
       "3    ChrF2   string      92.7         1\n",
       "9    COMET  learned      99.1         1\n",
       "13    Bleu   string      95.7         2\n",
       "..     ...      ...       ...       ...\n",
       "438  COMET  learned     100.0        34\n",
       "442   Bleu   string     100.0        35\n",
       "444  ChrF1   string     100.0        35\n",
       "445  ChrF2   string     100.0        35\n",
       "451  COMET  learned     100.0        35\n",
       "\n",
       "[140 rows x 4 columns]"
      ]
     },
     "execution_count": 74,
     "metadata": {},
     "output_type": "execute_result"
    }
   ],
   "source": [
    "demetr_df_match"
   ]
  },
  {
   "cell_type": "code",
   "execution_count": 75,
   "metadata": {},
   "outputs": [],
   "source": [
    "m4st_by_cat = all_res[['metric', 'category', 'correct']].groupby(['category', 'metric'])\n",
    "m4st_by_cat = m4st_by_cat.correct.mean().reset_index()"
   ]
  },
  {
   "cell_type": "code",
   "execution_count": 76,
   "metadata": {},
   "outputs": [
    {
     "data": {
      "text/html": [
       "<div>\n",
       "<style scoped>\n",
       "    .dataframe tbody tr th:only-of-type {\n",
       "        vertical-align: middle;\n",
       "    }\n",
       "\n",
       "    .dataframe tbody tr th {\n",
       "        vertical-align: top;\n",
       "    }\n",
       "\n",
       "    .dataframe thead th {\n",
       "        text-align: right;\n",
       "    }\n",
       "</style>\n",
       "<table border=\"1\" class=\"dataframe\">\n",
       "  <thead>\n",
       "    <tr style=\"text-align: right;\">\n",
       "      <th></th>\n",
       "      <th>category</th>\n",
       "      <th>metric</th>\n",
       "      <th>correct</th>\n",
       "    </tr>\n",
       "  </thead>\n",
       "  <tbody>\n",
       "    <tr>\n",
       "      <th>0</th>\n",
       "      <td>1</td>\n",
       "      <td>BLASER</td>\n",
       "      <td>0.9640</td>\n",
       "    </tr>\n",
       "    <tr>\n",
       "      <th>1</th>\n",
       "      <td>1</td>\n",
       "      <td>Bleu</td>\n",
       "      <td>0.9310</td>\n",
       "    </tr>\n",
       "    <tr>\n",
       "      <th>2</th>\n",
       "      <td>1</td>\n",
       "      <td>COMET</td>\n",
       "      <td>0.9925</td>\n",
       "    </tr>\n",
       "    <tr>\n",
       "      <th>3</th>\n",
       "      <td>1</td>\n",
       "      <td>ChrF1</td>\n",
       "      <td>0.9150</td>\n",
       "    </tr>\n",
       "    <tr>\n",
       "      <th>4</th>\n",
       "      <td>1</td>\n",
       "      <td>ChrF2</td>\n",
       "      <td>0.9270</td>\n",
       "    </tr>\n",
       "    <tr>\n",
       "      <th>...</th>\n",
       "      <td>...</td>\n",
       "      <td>...</td>\n",
       "      <td>...</td>\n",
       "    </tr>\n",
       "    <tr>\n",
       "      <th>170</th>\n",
       "      <td>35</td>\n",
       "      <td>BLASER</td>\n",
       "      <td>0.5720</td>\n",
       "    </tr>\n",
       "    <tr>\n",
       "      <th>171</th>\n",
       "      <td>35</td>\n",
       "      <td>Bleu</td>\n",
       "      <td>0.9940</td>\n",
       "    </tr>\n",
       "    <tr>\n",
       "      <th>172</th>\n",
       "      <td>35</td>\n",
       "      <td>COMET</td>\n",
       "      <td>0.7010</td>\n",
       "    </tr>\n",
       "    <tr>\n",
       "      <th>173</th>\n",
       "      <td>35</td>\n",
       "      <td>ChrF1</td>\n",
       "      <td>0.9940</td>\n",
       "    </tr>\n",
       "    <tr>\n",
       "      <th>174</th>\n",
       "      <td>35</td>\n",
       "      <td>ChrF2</td>\n",
       "      <td>0.9940</td>\n",
       "    </tr>\n",
       "  </tbody>\n",
       "</table>\n",
       "<p>175 rows × 3 columns</p>\n",
       "</div>"
      ],
      "text/plain": [
       "     category  metric  correct\n",
       "0           1  BLASER   0.9640\n",
       "1           1    Bleu   0.9310\n",
       "2           1   COMET   0.9925\n",
       "3           1   ChrF1   0.9150\n",
       "4           1   ChrF2   0.9270\n",
       "..        ...     ...      ...\n",
       "170        35  BLASER   0.5720\n",
       "171        35    Bleu   0.9940\n",
       "172        35   COMET   0.7010\n",
       "173        35   ChrF1   0.9940\n",
       "174        35   ChrF2   0.9940\n",
       "\n",
       "[175 rows x 3 columns]"
      ]
     },
     "execution_count": 76,
     "metadata": {},
     "output_type": "execute_result"
    }
   ],
   "source": [
    "m4st_by_cat"
   ]
  },
  {
   "cell_type": "code",
   "execution_count": 77,
   "metadata": {},
   "outputs": [],
   "source": [
    "# Adjust percentage\n",
    "m4st_by_cat['correct'] = m4st_by_cat['correct'] * 100"
   ]
  },
  {
   "cell_type": "code",
   "execution_count": 78,
   "metadata": {},
   "outputs": [
    {
     "name": "stderr",
     "output_type": "stream",
     "text": [
      "/var/folders/z4/mf_7gqbs75d6y4sj_xb9t80w0000gr/T/ipykernel_77707/3352759439.py:2: SettingWithCopyWarning: \n",
      "A value is trying to be set on a copy of a slice from a DataFrame.\n",
      "Try using .loc[row_indexer,col_indexer] = value instead\n",
      "\n",
      "See the caveats in the documentation: https://pandas.pydata.org/pandas-docs/stable/user_guide/indexing.html#returning-a-view-versus-a-copy\n",
      "  demetr_df_match['source'] = 'Karpinska et al.'\n"
     ]
    }
   ],
   "source": [
    "# Add column for plotting by source\n",
    "demetr_df_match['source'] = 'Karpinska et al.'"
   ]
  },
  {
   "cell_type": "code",
   "execution_count": 79,
   "metadata": {},
   "outputs": [],
   "source": [
    "m4st_by_cat['source'] = 'ARC'\n",
    "m4st_by_cat = m4st_by_cat.rename(columns={\"correct\": \"accuracy\"})"
   ]
  },
  {
   "cell_type": "code",
   "execution_count": 80,
   "metadata": {},
   "outputs": [],
   "source": [
    "merged = pd.merge(demetr_df_match,\n",
    "                  m4st_by_cat,\n",
    "                  on=['category', 'metric', 'source', 'accuracy'], how='outer')"
   ]
  },
  {
   "cell_type": "code",
   "execution_count": 81,
   "metadata": {},
   "outputs": [
    {
     "data": {
      "text/html": [
       "<div>\n",
       "<style scoped>\n",
       "    .dataframe tbody tr th:only-of-type {\n",
       "        vertical-align: middle;\n",
       "    }\n",
       "\n",
       "    .dataframe tbody tr th {\n",
       "        vertical-align: top;\n",
       "    }\n",
       "\n",
       "    .dataframe thead th {\n",
       "        text-align: right;\n",
       "    }\n",
       "</style>\n",
       "<table border=\"1\" class=\"dataframe\">\n",
       "  <thead>\n",
       "    <tr style=\"text-align: right;\">\n",
       "      <th></th>\n",
       "      <th>metric</th>\n",
       "      <th>type</th>\n",
       "      <th>accuracy</th>\n",
       "      <th>category</th>\n",
       "      <th>source</th>\n",
       "    </tr>\n",
       "  </thead>\n",
       "  <tbody>\n",
       "    <tr>\n",
       "      <th>0</th>\n",
       "      <td>BLASER</td>\n",
       "      <td>NaN</td>\n",
       "      <td>96.40</td>\n",
       "      <td>1</td>\n",
       "      <td>ARC</td>\n",
       "    </tr>\n",
       "    <tr>\n",
       "      <th>1</th>\n",
       "      <td>Bleu</td>\n",
       "      <td>NaN</td>\n",
       "      <td>93.10</td>\n",
       "      <td>1</td>\n",
       "      <td>ARC</td>\n",
       "    </tr>\n",
       "    <tr>\n",
       "      <th>2</th>\n",
       "      <td>Bleu</td>\n",
       "      <td>string</td>\n",
       "      <td>93.20</td>\n",
       "      <td>1</td>\n",
       "      <td>Karpinska et al.</td>\n",
       "    </tr>\n",
       "    <tr>\n",
       "      <th>3</th>\n",
       "      <td>COMET</td>\n",
       "      <td>NaN</td>\n",
       "      <td>99.25</td>\n",
       "      <td>1</td>\n",
       "      <td>ARC</td>\n",
       "    </tr>\n",
       "    <tr>\n",
       "      <th>4</th>\n",
       "      <td>COMET</td>\n",
       "      <td>learned</td>\n",
       "      <td>99.10</td>\n",
       "      <td>1</td>\n",
       "      <td>Karpinska et al.</td>\n",
       "    </tr>\n",
       "    <tr>\n",
       "      <th>...</th>\n",
       "      <td>...</td>\n",
       "      <td>...</td>\n",
       "      <td>...</td>\n",
       "      <td>...</td>\n",
       "      <td>...</td>\n",
       "    </tr>\n",
       "    <tr>\n",
       "      <th>310</th>\n",
       "      <td>COMET</td>\n",
       "      <td>learned</td>\n",
       "      <td>100.00</td>\n",
       "      <td>35</td>\n",
       "      <td>Karpinska et al.</td>\n",
       "    </tr>\n",
       "    <tr>\n",
       "      <th>311</th>\n",
       "      <td>ChrF1</td>\n",
       "      <td>NaN</td>\n",
       "      <td>99.40</td>\n",
       "      <td>35</td>\n",
       "      <td>ARC</td>\n",
       "    </tr>\n",
       "    <tr>\n",
       "      <th>312</th>\n",
       "      <td>ChrF1</td>\n",
       "      <td>string</td>\n",
       "      <td>100.00</td>\n",
       "      <td>35</td>\n",
       "      <td>Karpinska et al.</td>\n",
       "    </tr>\n",
       "    <tr>\n",
       "      <th>313</th>\n",
       "      <td>ChrF2</td>\n",
       "      <td>NaN</td>\n",
       "      <td>99.40</td>\n",
       "      <td>35</td>\n",
       "      <td>ARC</td>\n",
       "    </tr>\n",
       "    <tr>\n",
       "      <th>314</th>\n",
       "      <td>ChrF2</td>\n",
       "      <td>string</td>\n",
       "      <td>100.00</td>\n",
       "      <td>35</td>\n",
       "      <td>Karpinska et al.</td>\n",
       "    </tr>\n",
       "  </tbody>\n",
       "</table>\n",
       "<p>315 rows × 5 columns</p>\n",
       "</div>"
      ],
      "text/plain": [
       "     metric     type  accuracy  category            source\n",
       "0    BLASER      NaN     96.40         1               ARC\n",
       "1      Bleu      NaN     93.10         1               ARC\n",
       "2      Bleu   string     93.20         1  Karpinska et al.\n",
       "3     COMET      NaN     99.25         1               ARC\n",
       "4     COMET  learned     99.10         1  Karpinska et al.\n",
       "..      ...      ...       ...       ...               ...\n",
       "310   COMET  learned    100.00        35  Karpinska et al.\n",
       "311   ChrF1      NaN     99.40        35               ARC\n",
       "312   ChrF1   string    100.00        35  Karpinska et al.\n",
       "313   ChrF2      NaN     99.40        35               ARC\n",
       "314   ChrF2   string    100.00        35  Karpinska et al.\n",
       "\n",
       "[315 rows x 5 columns]"
      ]
     },
     "execution_count": 81,
     "metadata": {},
     "output_type": "execute_result"
    }
   ],
   "source": [
    "merged"
   ]
  },
  {
   "cell_type": "code",
   "execution_count": 82,
   "metadata": {},
   "outputs": [],
   "source": [
    "merged = merged[merged.metric.isin(['Bleu', 'COMET', 'ChrF1', 'ChrF2'])]"
   ]
  },
  {
   "cell_type": "code",
   "execution_count": 83,
   "metadata": {},
   "outputs": [
    {
     "data": {
      "image/png": "[encoded data removed]",
      "text/plain": [
       "<Figure size 1006.73x600 with 1 Axes>"
      ]
     },
     "metadata": {},
     "output_type": "display_data"
    }
   ],
   "source": [
    "g = sns.catplot(\n",
    "    data=merged[merged.category <=15], kind=\"bar\",\n",
    "    x=\"category\", y=\"accuracy\", hue=\"source\",\n",
    "    errorbar=\"sd\", palette=\"dark\", alpha=.6, height=6, aspect=11.7/8.27,\n",
    ")\n",
    "g.despine(left=True)\n",
    "g.set_axis_labels(\"Category\", \"Accuracy\")\n",
    "g.legend.set_title(\"\")"
   ]
  },
  {
   "cell_type": "code",
   "execution_count": 84,
   "metadata": {},
   "outputs": [
    {
     "data": {
      "image/png": "[encoded data removed]",
      "text/plain": [
       "<Figure size 1006.73x600 with 1 Axes>"
      ]
     },
     "metadata": {},
     "output_type": "display_data"
    }
   ],
   "source": [
    "g = sns.catplot(\n",
    "    data=merged[merged.category >15], kind=\"bar\",\n",
    "    x=\"category\", y=\"accuracy\", hue=\"source\",\n",
    "    errorbar=\"sd\", palette=\"dark\", alpha=.6, height=6, aspect=11.7/8.27,\n",
    ")\n",
    "g.despine(left=True)\n",
    "g.set_axis_labels(\"Category\", \"Accuracy\")\n",
    "g.legend.set_title(\"\")"
   ]
  },
  {
   "cell_type": "markdown",
   "metadata": {},
   "source": [
    "### BLASER only"
   ]
  },
  {
   "cell_type": "code",
   "execution_count": 356,
   "metadata": {},
   "outputs": [],
   "source": [
    "m4st_res_dir = \"../outputs/demetr\""
   ]
  },
  {
   "cell_type": "code",
   "execution_count": 357,
   "metadata": {},
   "outputs": [],
   "source": [
    "blaser_new_15 = pd.read_json(os.path.join(m4st_res_dir,\n",
    "                                          \"BLASER_REF_minor_id15_case.json\"))\n",
    "blaser_new_8 = pd.read_json(os.path.join(m4st_res_dir,\n",
    "                                         \"BLASER_Ref_critical_id8_negation.json\"))\n",
    "blaser_new_6 = pd.read_json(os.path.join(m4st_res_dir,\n",
    "                                         \"BLASER_Ref_critical_id6_addition.json\"))"
   ]
  },
  {
   "cell_type": "code",
   "execution_count": 358,
   "metadata": {},
   "outputs": [
    {
     "data": {
      "text/html": [
       "<div>\n",
       "<style scoped>\n",
       "    .dataframe tbody tr th:only-of-type {\n",
       "        vertical-align: middle;\n",
       "    }\n",
       "\n",
       "    .dataframe tbody tr th {\n",
       "        vertical-align: top;\n",
       "    }\n",
       "\n",
       "    .dataframe thead th {\n",
       "        text-align: right;\n",
       "    }\n",
       "</style>\n",
       "<table border=\"1\" class=\"dataframe\">\n",
       "  <thead>\n",
       "    <tr style=\"text-align: right;\">\n",
       "      <th></th>\n",
       "      <th>601</th>\n",
       "      <th>602</th>\n",
       "      <th>603</th>\n",
       "      <th>604</th>\n",
       "      <th>605</th>\n",
       "      <th>606</th>\n",
       "      <th>607</th>\n",
       "      <th>608</th>\n",
       "      <th>609</th>\n",
       "      <th>610</th>\n",
       "      <th>...</th>\n",
       "      <th>91</th>\n",
       "      <th>92</th>\n",
       "      <th>93</th>\n",
       "      <th>94</th>\n",
       "      <th>95</th>\n",
       "      <th>96</th>\n",
       "      <th>97</th>\n",
       "      <th>98</th>\n",
       "      <th>99</th>\n",
       "      <th>100</th>\n",
       "    </tr>\n",
       "  </thead>\n",
       "  <tbody>\n",
       "    <tr>\n",
       "      <th>source_language</th>\n",
       "      <td>czech</td>\n",
       "      <td>czech</td>\n",
       "      <td>czech</td>\n",
       "      <td>czech</td>\n",
       "      <td>czech</td>\n",
       "      <td>czech</td>\n",
       "      <td>czech</td>\n",
       "      <td>czech</td>\n",
       "      <td>czech</td>\n",
       "      <td>czech</td>\n",
       "      <td>...</td>\n",
       "      <td>chinese_simple</td>\n",
       "      <td>chinese_simple</td>\n",
       "      <td>chinese_simple</td>\n",
       "      <td>chinese_simple</td>\n",
       "      <td>chinese_simple</td>\n",
       "      <td>chinese_simple</td>\n",
       "      <td>chinese_simple</td>\n",
       "      <td>chinese_simple</td>\n",
       "      <td>chinese_simple</td>\n",
       "      <td>chinese_simple</td>\n",
       "    </tr>\n",
       "    <tr>\n",
       "      <th>mt_score</th>\n",
       "      <td>4.046928</td>\n",
       "      <td>4.642903</td>\n",
       "      <td>3.852083</td>\n",
       "      <td>4.719626</td>\n",
       "      <td>4.103452</td>\n",
       "      <td>4.689804</td>\n",
       "      <td>4.356555</td>\n",
       "      <td>4.806304</td>\n",
       "      <td>4.154267</td>\n",
       "      <td>4.999514</td>\n",
       "      <td>...</td>\n",
       "      <td>4.488197</td>\n",
       "      <td>4.385789</td>\n",
       "      <td>4.955001</td>\n",
       "      <td>4.806337</td>\n",
       "      <td>3.930781</td>\n",
       "      <td>4.203106</td>\n",
       "      <td>4.102276</td>\n",
       "      <td>4.280562</td>\n",
       "      <td>4.1981</td>\n",
       "      <td>4.09699</td>\n",
       "    </tr>\n",
       "    <tr>\n",
       "      <th>disfluent_score</th>\n",
       "      <td>4.046928</td>\n",
       "      <td>4.642903</td>\n",
       "      <td>3.852083</td>\n",
       "      <td>4.695207</td>\n",
       "      <td>4.10752</td>\n",
       "      <td>4.689804</td>\n",
       "      <td>4.049302</td>\n",
       "      <td>4.806304</td>\n",
       "      <td>4.154267</td>\n",
       "      <td>4.999514</td>\n",
       "      <td>...</td>\n",
       "      <td>4.488197</td>\n",
       "      <td>4.259297</td>\n",
       "      <td>4.955001</td>\n",
       "      <td>4.646544</td>\n",
       "      <td>3.930781</td>\n",
       "      <td>4.203106</td>\n",
       "      <td>4.102276</td>\n",
       "      <td>4.256535</td>\n",
       "      <td>4.1981</td>\n",
       "      <td>3.975805</td>\n",
       "    </tr>\n",
       "  </tbody>\n",
       "</table>\n",
       "<p>3 rows × 1000 columns</p>\n",
       "</div>"
      ],
      "text/plain": [
       "                      601       602       603       604       605       606  \\\n",
       "source_language     czech     czech     czech     czech     czech     czech   \n",
       "mt_score         4.046928  4.642903  3.852083  4.719626  4.103452  4.689804   \n",
       "disfluent_score  4.046928  4.642903  3.852083  4.695207   4.10752  4.689804   \n",
       "\n",
       "                      607       608       609       610  ...             91   \\\n",
       "source_language     czech     czech     czech     czech  ...  chinese_simple   \n",
       "mt_score         4.356555  4.806304  4.154267  4.999514  ...        4.488197   \n",
       "disfluent_score  4.049302  4.806304  4.154267  4.999514  ...        4.488197   \n",
       "\n",
       "                            92              93              94   \\\n",
       "source_language  chinese_simple  chinese_simple  chinese_simple   \n",
       "mt_score               4.385789        4.955001        4.806337   \n",
       "disfluent_score        4.259297        4.955001        4.646544   \n",
       "\n",
       "                            95              96              97   \\\n",
       "source_language  chinese_simple  chinese_simple  chinese_simple   \n",
       "mt_score               3.930781        4.203106        4.102276   \n",
       "disfluent_score        3.930781        4.203106        4.102276   \n",
       "\n",
       "                            98              99              100  \n",
       "source_language  chinese_simple  chinese_simple  chinese_simple  \n",
       "mt_score               4.280562          4.1981         4.09699  \n",
       "disfluent_score        4.256535          4.1981        3.975805  \n",
       "\n",
       "[3 rows x 1000 columns]"
      ]
     },
     "execution_count": 358,
     "metadata": {},
     "output_type": "execute_result"
    }
   ],
   "source": [
    "blaser_new_15"
   ]
  },
  {
   "cell_type": "code",
   "execution_count": 361,
   "metadata": {},
   "outputs": [],
   "source": [
    "blaser_new_15 = blaser_new_15.T\n",
    "blaser_new_8 = blaser_new_8.T\n",
    "blaser_new_6 = blaser_new_6.T"
   ]
  },
  {
   "cell_type": "code",
   "execution_count": 362,
   "metadata": {},
   "outputs": [
    {
     "data": {
      "text/html": [
       "<div>\n",
       "<style scoped>\n",
       "    .dataframe tbody tr th:only-of-type {\n",
       "        vertical-align: middle;\n",
       "    }\n",
       "\n",
       "    .dataframe tbody tr th {\n",
       "        vertical-align: top;\n",
       "    }\n",
       "\n",
       "    .dataframe thead th {\n",
       "        text-align: right;\n",
       "    }\n",
       "</style>\n",
       "<table border=\"1\" class=\"dataframe\">\n",
       "  <thead>\n",
       "    <tr style=\"text-align: right;\">\n",
       "      <th></th>\n",
       "      <th>source_language</th>\n",
       "      <th>mt_score</th>\n",
       "      <th>disfluent_score</th>\n",
       "    </tr>\n",
       "  </thead>\n",
       "  <tbody>\n",
       "    <tr>\n",
       "      <th>602</th>\n",
       "      <td>czech</td>\n",
       "      <td>4.642903</td>\n",
       "      <td>4.572214</td>\n",
       "    </tr>\n",
       "    <tr>\n",
       "      <th>603</th>\n",
       "      <td>czech</td>\n",
       "      <td>3.852083</td>\n",
       "      <td>3.822893</td>\n",
       "    </tr>\n",
       "    <tr>\n",
       "      <th>604</th>\n",
       "      <td>czech</td>\n",
       "      <td>4.719626</td>\n",
       "      <td>4.607917</td>\n",
       "    </tr>\n",
       "    <tr>\n",
       "      <th>605</th>\n",
       "      <td>czech</td>\n",
       "      <td>4.103452</td>\n",
       "      <td>4.075375</td>\n",
       "    </tr>\n",
       "    <tr>\n",
       "      <th>606</th>\n",
       "      <td>czech</td>\n",
       "      <td>4.689804</td>\n",
       "      <td>4.556154</td>\n",
       "    </tr>\n",
       "    <tr>\n",
       "      <th>...</th>\n",
       "      <td>...</td>\n",
       "      <td>...</td>\n",
       "      <td>...</td>\n",
       "    </tr>\n",
       "    <tr>\n",
       "      <th>96</th>\n",
       "      <td>chinese_simple</td>\n",
       "      <td>4.203106</td>\n",
       "      <td>4.122562</td>\n",
       "    </tr>\n",
       "    <tr>\n",
       "      <th>97</th>\n",
       "      <td>chinese_simple</td>\n",
       "      <td>4.102276</td>\n",
       "      <td>4.035523</td>\n",
       "    </tr>\n",
       "    <tr>\n",
       "      <th>98</th>\n",
       "      <td>chinese_simple</td>\n",
       "      <td>4.280562</td>\n",
       "      <td>4.143666</td>\n",
       "    </tr>\n",
       "    <tr>\n",
       "      <th>99</th>\n",
       "      <td>chinese_simple</td>\n",
       "      <td>4.1981</td>\n",
       "      <td>4.074596</td>\n",
       "    </tr>\n",
       "    <tr>\n",
       "      <th>100</th>\n",
       "      <td>chinese_simple</td>\n",
       "      <td>4.09699</td>\n",
       "      <td>4.042272</td>\n",
       "    </tr>\n",
       "  </tbody>\n",
       "</table>\n",
       "<p>1000 rows × 3 columns</p>\n",
       "</div>"
      ],
      "text/plain": [
       "    source_language  mt_score disfluent_score\n",
       "602           czech  4.642903        4.572214\n",
       "603           czech  3.852083        3.822893\n",
       "604           czech  4.719626        4.607917\n",
       "605           czech  4.103452        4.075375\n",
       "606           czech  4.689804        4.556154\n",
       "..              ...       ...             ...\n",
       "96   chinese_simple  4.203106        4.122562\n",
       "97   chinese_simple  4.102276        4.035523\n",
       "98   chinese_simple  4.280562        4.143666\n",
       "99   chinese_simple    4.1981        4.074596\n",
       "100  chinese_simple   4.09699        4.042272\n",
       "\n",
       "[1000 rows x 3 columns]"
      ]
     },
     "execution_count": 362,
     "metadata": {},
     "output_type": "execute_result"
    }
   ],
   "source": [
    "blaser_new_8"
   ]
  },
  {
   "cell_type": "code",
   "execution_count": 363,
   "metadata": {},
   "outputs": [
    {
     "data": {
      "text/plain": [
       "array(['chinese_simple', 'czech', 'french', 'german', 'hindi', 'italian',\n",
       "       'japanese', 'polish', 'russian', 'spanish'], dtype=object)"
      ]
     },
     "execution_count": 363,
     "metadata": {},
     "output_type": "execute_result"
    }
   ],
   "source": [
    "np.unique(blaser_new_15.source_language)"
   ]
  },
  {
   "cell_type": "code",
   "execution_count": 364,
   "metadata": {},
   "outputs": [],
   "source": [
    "blaser_new_15['diff'] = blaser_new_15.mt_score - blaser_new_15.disfluent_score\n",
    "blaser_new_8['diff'] = blaser_new_8.mt_score - blaser_new_8.disfluent_score\n",
    "blaser_new_6['diff'] = blaser_new_6.mt_score - blaser_new_6.disfluent_score"
   ]
  },
  {
   "cell_type": "code",
   "execution_count": 365,
   "metadata": {},
   "outputs": [
    {
     "data": {
      "text/html": [
       "<div>\n",
       "<style scoped>\n",
       "    .dataframe tbody tr th:only-of-type {\n",
       "        vertical-align: middle;\n",
       "    }\n",
       "\n",
       "    .dataframe tbody tr th {\n",
       "        vertical-align: top;\n",
       "    }\n",
       "\n",
       "    .dataframe thead th {\n",
       "        text-align: right;\n",
       "    }\n",
       "</style>\n",
       "<table border=\"1\" class=\"dataframe\">\n",
       "  <thead>\n",
       "    <tr style=\"text-align: right;\">\n",
       "      <th></th>\n",
       "      <th>source_language</th>\n",
       "      <th>mt_score</th>\n",
       "      <th>disfluent_score</th>\n",
       "      <th>diff</th>\n",
       "    </tr>\n",
       "  </thead>\n",
       "  <tbody>\n",
       "    <tr>\n",
       "      <th>601</th>\n",
       "      <td>czech</td>\n",
       "      <td>4.046928</td>\n",
       "      <td>4.046928</td>\n",
       "      <td>0.0</td>\n",
       "    </tr>\n",
       "    <tr>\n",
       "      <th>602</th>\n",
       "      <td>czech</td>\n",
       "      <td>4.642903</td>\n",
       "      <td>4.642903</td>\n",
       "      <td>0.0</td>\n",
       "    </tr>\n",
       "    <tr>\n",
       "      <th>603</th>\n",
       "      <td>czech</td>\n",
       "      <td>3.852083</td>\n",
       "      <td>3.852083</td>\n",
       "      <td>0.0</td>\n",
       "    </tr>\n",
       "    <tr>\n",
       "      <th>604</th>\n",
       "      <td>czech</td>\n",
       "      <td>4.719626</td>\n",
       "      <td>4.695207</td>\n",
       "      <td>0.02442</td>\n",
       "    </tr>\n",
       "    <tr>\n",
       "      <th>605</th>\n",
       "      <td>czech</td>\n",
       "      <td>4.103452</td>\n",
       "      <td>4.10752</td>\n",
       "      <td>-0.004068</td>\n",
       "    </tr>\n",
       "    <tr>\n",
       "      <th>...</th>\n",
       "      <td>...</td>\n",
       "      <td>...</td>\n",
       "      <td>...</td>\n",
       "      <td>...</td>\n",
       "    </tr>\n",
       "    <tr>\n",
       "      <th>96</th>\n",
       "      <td>chinese_simple</td>\n",
       "      <td>4.203106</td>\n",
       "      <td>4.203106</td>\n",
       "      <td>0.0</td>\n",
       "    </tr>\n",
       "    <tr>\n",
       "      <th>97</th>\n",
       "      <td>chinese_simple</td>\n",
       "      <td>4.102276</td>\n",
       "      <td>4.102276</td>\n",
       "      <td>0.0</td>\n",
       "    </tr>\n",
       "    <tr>\n",
       "      <th>98</th>\n",
       "      <td>chinese_simple</td>\n",
       "      <td>4.280562</td>\n",
       "      <td>4.256535</td>\n",
       "      <td>0.024027</td>\n",
       "    </tr>\n",
       "    <tr>\n",
       "      <th>99</th>\n",
       "      <td>chinese_simple</td>\n",
       "      <td>4.1981</td>\n",
       "      <td>4.1981</td>\n",
       "      <td>0.0</td>\n",
       "    </tr>\n",
       "    <tr>\n",
       "      <th>100</th>\n",
       "      <td>chinese_simple</td>\n",
       "      <td>4.09699</td>\n",
       "      <td>3.975805</td>\n",
       "      <td>0.121184</td>\n",
       "    </tr>\n",
       "  </tbody>\n",
       "</table>\n",
       "<p>1000 rows × 4 columns</p>\n",
       "</div>"
      ],
      "text/plain": [
       "    source_language  mt_score disfluent_score      diff\n",
       "601           czech  4.046928        4.046928       0.0\n",
       "602           czech  4.642903        4.642903       0.0\n",
       "603           czech  3.852083        3.852083       0.0\n",
       "604           czech  4.719626        4.695207   0.02442\n",
       "605           czech  4.103452         4.10752 -0.004068\n",
       "..              ...       ...             ...       ...\n",
       "96   chinese_simple  4.203106        4.203106       0.0\n",
       "97   chinese_simple  4.102276        4.102276       0.0\n",
       "98   chinese_simple  4.280562        4.256535  0.024027\n",
       "99   chinese_simple    4.1981          4.1981       0.0\n",
       "100  chinese_simple   4.09699        3.975805  0.121184\n",
       "\n",
       "[1000 rows x 4 columns]"
      ]
     },
     "execution_count": 365,
     "metadata": {},
     "output_type": "execute_result"
    }
   ],
   "source": [
    "blaser_new_15"
   ]
  },
  {
   "cell_type": "code",
   "execution_count": 366,
   "metadata": {},
   "outputs": [
    {
     "data": {
      "text/plain": [
       "([<matplotlib.axis.XTick at 0x32e458d50>,\n",
       "  <matplotlib.axis.XTick at 0x32e5b6f90>,\n",
       "  <matplotlib.axis.XTick at 0x32d8e2410>,\n",
       "  <matplotlib.axis.XTick at 0x32e3c3390>,\n",
       "  <matplotlib.axis.XTick at 0x32e3c5b10>,\n",
       "  <matplotlib.axis.XTick at 0x32e3c66d0>,\n",
       "  <matplotlib.axis.XTick at 0x32e3c70d0>,\n",
       "  <matplotlib.axis.XTick at 0x32e452ad0>,\n",
       "  <matplotlib.axis.XTick at 0x32e3d9bd0>,\n",
       "  <matplotlib.axis.XTick at 0x32e3dbdd0>],\n",
       " [Text(0, 0, 'chinese_simple'),\n",
       "  Text(1, 0, 'czech'),\n",
       "  Text(2, 0, 'french'),\n",
       "  Text(3, 0, 'german'),\n",
       "  Text(4, 0, 'hindi'),\n",
       "  Text(5, 0, 'italian'),\n",
       "  Text(6, 0, 'japanese'),\n",
       "  Text(7, 0, 'polish'),\n",
       "  Text(8, 0, 'russian'),\n",
       "  Text(9, 0, 'spanish')])"
      ]
     },
     "execution_count": 366,
     "metadata": {},
     "output_type": "execute_result"
    },
    {
     "data": {
      "image/png": "[encoded data removed]",
      "text/plain": [
       "<Figure size 640x480 with 1 Axes>"
      ]
     },
     "metadata": {},
     "output_type": "display_data"
    }
   ],
   "source": [
    "fig, axs = plt.subplots()\n",
    "blaser_new_15.groupby('source_language').mean()['diff'].plot(ax=axs)\n",
    "blaser_new_8.groupby('source_language').mean()['diff'].plot(ax=axs)\n",
    "blaser_new_6.groupby('source_language').mean()['diff'].plot(ax=axs)\n",
    "\n",
    "fig.legend(labels=['Pronoun case', 'Negation', 'Addition'],\n",
    "           loc='right',\n",
    "           bbox_to_anchor=(1.15, 0.5))\n",
    "axs.set_ylabel(\"Score difference\")\n",
    "plt.xticks(np.arange(10), np.unique(blaser_new_15.source_language), rotation=30)"
   ]
  },
  {
   "cell_type": "code",
   "execution_count": null,
   "metadata": {},
   "outputs": [],
   "source": []
  }
 ],
 "metadata": {
  "kernelspec": {
   "display_name": ".venv",
   "language": "python",
   "name": "python3"
  },
  "language_info": {
   "codemirror_mode": {
    "name": "ipython",
    "version": 3
   },
   "file_extension": ".py",
   "mimetype": "text/x-python",
   "name": "python",
   "nbconvert_exporter": "python",
   "pygments_lexer": "ipython3",
   "version": "3.11.4"
  }
 },
 "nbformat": 4,
 "nbformat_minor": 2
}

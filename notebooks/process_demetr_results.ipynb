{
 "cells": [
  {
   "cell_type": "code",
   "execution_count": 1,
   "metadata": {},
   "outputs": [],
   "source": [
    "import os\n",
    "\n",
    "import numpy as np\n",
    "import pandas as pd\n",
    "import seaborn as sns\n",
    "import yaml\n",
    "from matplotlib import pyplot as plt"
   ]
  },
  {
   "cell_type": "code",
   "execution_count": 2,
   "metadata": {},
   "outputs": [],
   "source": [
    "# Categories as specified in the dataset are different to the paper\n",
    "# This gives the mapping between them\n",
    "with open(\"../configs/demetr/cat_correction.yaml\") as stream:\n",
    "    try:\n",
    "        cat_correction = yaml.safe_load(stream)\n",
    "    except yaml.YAMLError as exc:\n",
    "        print(exc)"
   ]
  },
  {
   "cell_type": "code",
   "execution_count": 3,
   "metadata": {},
   "outputs": [],
   "source": [
    "# Map categories to error severity\n",
    "# Severity is as specified in the paper\n",
    "with open(\"../configs/demetr/cat_severity.yaml\") as stream:\n",
    "    try:\n",
    "        cat_severity = yaml.safe_load(stream)\n",
    "    except yaml.YAMLError as exc:\n",
    "        print(exc)"
   ]
  },
  {
   "cell_type": "markdown",
   "metadata": {},
   "source": [
    "### Load results from DEMETR paper"
   ]
  },
  {
   "cell_type": "code",
   "execution_count": 4,
   "metadata": {},
   "outputs": [],
   "source": [
    "demetr_results = \"../data/demetr_paper_results_tidy.csv\""
   ]
  },
  {
   "cell_type": "code",
   "execution_count": 5,
   "metadata": {},
   "outputs": [],
   "source": [
    "demetr_df = pd.read_csv(demetr_results)"
   ]
  },
  {
   "cell_type": "code",
   "execution_count": 6,
   "metadata": {},
   "outputs": [],
   "source": [
    "bleu_baseline = demetr_df[demetr_df.metric == \"Bleu\"]\n",
    "comet_baseline = demetr_df[demetr_df.metric == \"Comet\"]"
   ]
  },
  {
   "cell_type": "code",
   "execution_count": 7,
   "metadata": {},
   "outputs": [
    {
     "name": "stdout",
     "output_type": "stream",
     "text": [
      "35\n",
      "35\n"
     ]
    }
   ],
   "source": [
    "# Sort and sanity check\n",
    "# We should have 35 categories\n",
    "bleu_baseline = bleu_baseline.sort_values(\"category\")\n",
    "print(len(bleu_baseline))\n",
    "\n",
    "comet_baseline = comet_baseline.sort_values(\"category\")\n",
    "print(len(comet_baseline))"
   ]
  },
  {
   "cell_type": "markdown",
   "metadata": {},
   "source": [
    "### Load M4ST results"
   ]
  },
  {
   "cell_type": "code",
   "execution_count": 8,
   "metadata": {},
   "outputs": [],
   "source": [
    "m4st_res_dir = \"../outputs/demetr\""
   ]
  },
  {
   "cell_type": "code",
   "execution_count": 9,
   "metadata": {},
   "outputs": [],
   "source": [
    "res_files = os.listdir(m4st_res_dir)"
   ]
  },
  {
   "cell_type": "code",
   "execution_count": 10,
   "metadata": {},
   "outputs": [],
   "source": [
    "# Read all files into a single dataframe\n",
    "results_dataframes = []\n",
    "\n",
    "for i in range(len(res_files)):\n",
    "    try:\n",
    "        res_df = pd.read_json(os.path.join(m4st_res_dir, res_files[i]))\n",
    "        metric = res_files[i].split(\"_\")[0]\n",
    "        id = next(c for c in res_files[i].split(\"_\") if \"id\" in c)\n",
    "        cat = int(id.strip(\"id\"))\n",
    "        res_df = res_df.T\n",
    "        res_df[\"metric\"] = metric\n",
    "        res_df[\"sentence_id\"] = res_df.index\n",
    "        res_df[\"category\"] = cat\n",
    "        results_dataframes.append(res_df)\n",
    "    except IsADirectoryError:\n",
    "        pass\n",
    "\n",
    "all_res = pd.concat(results_dataframes)"
   ]
  },
  {
   "cell_type": "code",
   "execution_count": 12,
   "metadata": {},
   "outputs": [
    {
     "data": {
      "text/html": [
       "<div>\n",
       "<style scoped>\n",
       "    .dataframe tbody tr th:only-of-type {\n",
       "        vertical-align: middle;\n",
       "    }\n",
       "\n",
       "    .dataframe tbody tr th {\n",
       "        vertical-align: top;\n",
       "    }\n",
       "\n",
       "    .dataframe thead th {\n",
       "        text-align: right;\n",
       "    }\n",
       "</style>\n",
       "<table border=\"1\" class=\"dataframe\">\n",
       "  <thead>\n",
       "    <tr style=\"text-align: right;\">\n",
       "      <th></th>\n",
       "      <th>source_language</th>\n",
       "      <th>mt_score</th>\n",
       "      <th>disfluent_score</th>\n",
       "      <th>metric</th>\n",
       "      <th>sentence_id</th>\n",
       "      <th>category</th>\n",
       "    </tr>\n",
       "  </thead>\n",
       "  <tbody>\n",
       "    <tr>\n",
       "      <th>1</th>\n",
       "      <td>chinese_simple</td>\n",
       "      <td>73.613919</td>\n",
       "      <td>19.173356</td>\n",
       "      <td>ChrF1</td>\n",
       "      <td>1</td>\n",
       "      <td>34</td>\n",
       "    </tr>\n",
       "  </tbody>\n",
       "</table>\n",
       "</div>"
      ],
      "text/plain": [
       "  source_language   mt_score disfluent_score metric  sentence_id  category\n",
       "1  chinese_simple  73.613919       19.173356  ChrF1            1        34"
      ]
     },
     "execution_count": 12,
     "metadata": {},
     "output_type": "execute_result"
    }
   ],
   "source": [
    "all_res.head(1)"
   ]
  },
  {
   "cell_type": "code",
   "execution_count": 13,
   "metadata": {},
   "outputs": [],
   "source": [
    "# Correct categories to align with the paper\n",
    "all_res[\"category\"] = all_res[\"category\"].replace(cat_correction)"
   ]
  },
  {
   "cell_type": "code",
   "execution_count": 14,
   "metadata": {},
   "outputs": [],
   "source": [
    "# Add column indicating DEMETR accuracy\n",
    "all_res[\"correct\"] = all_res[\"mt_score\"] > all_res[\"disfluent_score\"]"
   ]
  },
  {
   "cell_type": "code",
   "execution_count": 15,
   "metadata": {},
   "outputs": [
    {
     "data": {
      "text/html": [
       "<div>\n",
       "<style scoped>\n",
       "    .dataframe tbody tr th:only-of-type {\n",
       "        vertical-align: middle;\n",
       "    }\n",
       "\n",
       "    .dataframe tbody tr th {\n",
       "        vertical-align: top;\n",
       "    }\n",
       "\n",
       "    .dataframe thead th {\n",
       "        text-align: right;\n",
       "    }\n",
       "</style>\n",
       "<table border=\"1\" class=\"dataframe\">\n",
       "  <thead>\n",
       "    <tr style=\"text-align: right;\">\n",
       "      <th></th>\n",
       "      <th>source_language</th>\n",
       "      <th>mt_score</th>\n",
       "      <th>disfluent_score</th>\n",
       "      <th>metric</th>\n",
       "      <th>sentence_id</th>\n",
       "      <th>category</th>\n",
       "      <th>correct</th>\n",
       "    </tr>\n",
       "  </thead>\n",
       "  <tbody>\n",
       "    <tr>\n",
       "      <th>1</th>\n",
       "      <td>chinese_simple</td>\n",
       "      <td>0.999132</td>\n",
       "      <td>1.0</td>\n",
       "      <td>XCOMET-XXL</td>\n",
       "      <td>1</td>\n",
       "      <td>35</td>\n",
       "      <td>False</td>\n",
       "    </tr>\n",
       "    <tr>\n",
       "      <th>2</th>\n",
       "      <td>chinese_simple</td>\n",
       "      <td>1.0</td>\n",
       "      <td>0.999354</td>\n",
       "      <td>XCOMET-XXL</td>\n",
       "      <td>2</td>\n",
       "      <td>35</td>\n",
       "      <td>True</td>\n",
       "    </tr>\n",
       "    <tr>\n",
       "      <th>3</th>\n",
       "      <td>chinese_simple</td>\n",
       "      <td>1.0</td>\n",
       "      <td>0.997073</td>\n",
       "      <td>XCOMET-XXL</td>\n",
       "      <td>3</td>\n",
       "      <td>35</td>\n",
       "      <td>True</td>\n",
       "    </tr>\n",
       "    <tr>\n",
       "      <th>4</th>\n",
       "      <td>chinese_simple</td>\n",
       "      <td>0.995413</td>\n",
       "      <td>1.0</td>\n",
       "      <td>XCOMET-XXL</td>\n",
       "      <td>4</td>\n",
       "      <td>35</td>\n",
       "      <td>False</td>\n",
       "    </tr>\n",
       "    <tr>\n",
       "      <th>5</th>\n",
       "      <td>chinese_simple</td>\n",
       "      <td>0.988401</td>\n",
       "      <td>0.930063</td>\n",
       "      <td>XCOMET-XXL</td>\n",
       "      <td>5</td>\n",
       "      <td>35</td>\n",
       "      <td>True</td>\n",
       "    </tr>\n",
       "    <tr>\n",
       "      <th>...</th>\n",
       "      <td>...</td>\n",
       "      <td>...</td>\n",
       "      <td>...</td>\n",
       "      <td>...</td>\n",
       "      <td>...</td>\n",
       "      <td>...</td>\n",
       "      <td>...</td>\n",
       "    </tr>\n",
       "    <tr>\n",
       "      <th>996</th>\n",
       "      <td>italian</td>\n",
       "      <td>74.188438</td>\n",
       "      <td>100.0</td>\n",
       "      <td>ChrF2</td>\n",
       "      <td>996</td>\n",
       "      <td>35</td>\n",
       "      <td>False</td>\n",
       "    </tr>\n",
       "    <tr>\n",
       "      <th>997</th>\n",
       "      <td>italian</td>\n",
       "      <td>69.348646</td>\n",
       "      <td>100.0</td>\n",
       "      <td>ChrF2</td>\n",
       "      <td>997</td>\n",
       "      <td>35</td>\n",
       "      <td>False</td>\n",
       "    </tr>\n",
       "    <tr>\n",
       "      <th>998</th>\n",
       "      <td>italian</td>\n",
       "      <td>51.522835</td>\n",
       "      <td>100.0</td>\n",
       "      <td>ChrF2</td>\n",
       "      <td>998</td>\n",
       "      <td>35</td>\n",
       "      <td>False</td>\n",
       "    </tr>\n",
       "    <tr>\n",
       "      <th>999</th>\n",
       "      <td>italian</td>\n",
       "      <td>93.826029</td>\n",
       "      <td>100.0</td>\n",
       "      <td>ChrF2</td>\n",
       "      <td>999</td>\n",
       "      <td>35</td>\n",
       "      <td>False</td>\n",
       "    </tr>\n",
       "    <tr>\n",
       "      <th>1000</th>\n",
       "      <td>italian</td>\n",
       "      <td>65.292038</td>\n",
       "      <td>100.0</td>\n",
       "      <td>ChrF2</td>\n",
       "      <td>1000</td>\n",
       "      <td>35</td>\n",
       "      <td>False</td>\n",
       "    </tr>\n",
       "  </tbody>\n",
       "</table>\n",
       "<p>11000 rows × 7 columns</p>\n",
       "</div>"
      ],
      "text/plain": [
       "     source_language   mt_score disfluent_score      metric  sentence_id  \\\n",
       "1     chinese_simple   0.999132             1.0  XCOMET-XXL            1   \n",
       "2     chinese_simple        1.0        0.999354  XCOMET-XXL            2   \n",
       "3     chinese_simple        1.0        0.997073  XCOMET-XXL            3   \n",
       "4     chinese_simple   0.995413             1.0  XCOMET-XXL            4   \n",
       "5     chinese_simple   0.988401        0.930063  XCOMET-XXL            5   \n",
       "...              ...        ...             ...         ...          ...   \n",
       "996          italian  74.188438           100.0       ChrF2          996   \n",
       "997          italian  69.348646           100.0       ChrF2          997   \n",
       "998          italian  51.522835           100.0       ChrF2          998   \n",
       "999          italian  93.826029           100.0       ChrF2          999   \n",
       "1000         italian  65.292038           100.0       ChrF2         1000   \n",
       "\n",
       "      category  correct  \n",
       "1           35    False  \n",
       "2           35     True  \n",
       "3           35     True  \n",
       "4           35    False  \n",
       "5           35     True  \n",
       "...        ...      ...  \n",
       "996         35    False  \n",
       "997         35    False  \n",
       "998         35    False  \n",
       "999         35    False  \n",
       "1000        35    False  \n",
       "\n",
       "[11000 rows x 7 columns]"
      ]
     },
     "execution_count": 15,
     "metadata": {},
     "output_type": "execute_result"
    }
   ],
   "source": [
    "# Accuracy is reversed for category 35 (reference as translation) so need to adjust that\n",
    "cat_to_rev = all_res.loc[all_res[\"category\"] == 35]\n",
    "cat_to_rev"
   ]
  },
  {
   "cell_type": "code",
   "execution_count": 16,
   "metadata": {},
   "outputs": [
    {
     "name": "stderr",
     "output_type": "stream",
     "text": [
      "/var/folders/z4/mf_7gqbs75d6y4sj_xb9t80w0000gr/T/ipykernel_99881/1405697321.py:1: SettingWithCopyWarning: \n",
      "A value is trying to be set on a copy of a slice from a DataFrame.\n",
      "Try using .loc[row_indexer,col_indexer] = value instead\n",
      "\n",
      "See the caveats in the documentation: https://pandas.pydata.org/pandas-docs/stable/user_guide/indexing.html#returning-a-view-versus-a-copy\n",
      "  cat_to_rev[\"correct\"] = cat_to_rev[\"mt_score\"] < cat_to_rev[\"disfluent_score\"]\n"
     ]
    },
    {
     "data": {
      "text/html": [
       "<div>\n",
       "<style scoped>\n",
       "    .dataframe tbody tr th:only-of-type {\n",
       "        vertical-align: middle;\n",
       "    }\n",
       "\n",
       "    .dataframe tbody tr th {\n",
       "        vertical-align: top;\n",
       "    }\n",
       "\n",
       "    .dataframe thead th {\n",
       "        text-align: right;\n",
       "    }\n",
       "</style>\n",
       "<table border=\"1\" class=\"dataframe\">\n",
       "  <thead>\n",
       "    <tr style=\"text-align: right;\">\n",
       "      <th></th>\n",
       "      <th>source_language</th>\n",
       "      <th>mt_score</th>\n",
       "      <th>disfluent_score</th>\n",
       "      <th>metric</th>\n",
       "      <th>sentence_id</th>\n",
       "      <th>category</th>\n",
       "      <th>correct</th>\n",
       "    </tr>\n",
       "  </thead>\n",
       "  <tbody>\n",
       "    <tr>\n",
       "      <th>1</th>\n",
       "      <td>chinese_simple</td>\n",
       "      <td>0.999132</td>\n",
       "      <td>1.0</td>\n",
       "      <td>XCOMET-XXL</td>\n",
       "      <td>1</td>\n",
       "      <td>35</td>\n",
       "      <td>True</td>\n",
       "    </tr>\n",
       "    <tr>\n",
       "      <th>2</th>\n",
       "      <td>chinese_simple</td>\n",
       "      <td>1.0</td>\n",
       "      <td>0.999354</td>\n",
       "      <td>XCOMET-XXL</td>\n",
       "      <td>2</td>\n",
       "      <td>35</td>\n",
       "      <td>False</td>\n",
       "    </tr>\n",
       "    <tr>\n",
       "      <th>3</th>\n",
       "      <td>chinese_simple</td>\n",
       "      <td>1.0</td>\n",
       "      <td>0.997073</td>\n",
       "      <td>XCOMET-XXL</td>\n",
       "      <td>3</td>\n",
       "      <td>35</td>\n",
       "      <td>False</td>\n",
       "    </tr>\n",
       "    <tr>\n",
       "      <th>4</th>\n",
       "      <td>chinese_simple</td>\n",
       "      <td>0.995413</td>\n",
       "      <td>1.0</td>\n",
       "      <td>XCOMET-XXL</td>\n",
       "      <td>4</td>\n",
       "      <td>35</td>\n",
       "      <td>True</td>\n",
       "    </tr>\n",
       "    <tr>\n",
       "      <th>5</th>\n",
       "      <td>chinese_simple</td>\n",
       "      <td>0.988401</td>\n",
       "      <td>0.930063</td>\n",
       "      <td>XCOMET-XXL</td>\n",
       "      <td>5</td>\n",
       "      <td>35</td>\n",
       "      <td>False</td>\n",
       "    </tr>\n",
       "    <tr>\n",
       "      <th>...</th>\n",
       "      <td>...</td>\n",
       "      <td>...</td>\n",
       "      <td>...</td>\n",
       "      <td>...</td>\n",
       "      <td>...</td>\n",
       "      <td>...</td>\n",
       "      <td>...</td>\n",
       "    </tr>\n",
       "    <tr>\n",
       "      <th>996</th>\n",
       "      <td>italian</td>\n",
       "      <td>74.188438</td>\n",
       "      <td>100.0</td>\n",
       "      <td>ChrF2</td>\n",
       "      <td>996</td>\n",
       "      <td>35</td>\n",
       "      <td>True</td>\n",
       "    </tr>\n",
       "    <tr>\n",
       "      <th>997</th>\n",
       "      <td>italian</td>\n",
       "      <td>69.348646</td>\n",
       "      <td>100.0</td>\n",
       "      <td>ChrF2</td>\n",
       "      <td>997</td>\n",
       "      <td>35</td>\n",
       "      <td>True</td>\n",
       "    </tr>\n",
       "    <tr>\n",
       "      <th>998</th>\n",
       "      <td>italian</td>\n",
       "      <td>51.522835</td>\n",
       "      <td>100.0</td>\n",
       "      <td>ChrF2</td>\n",
       "      <td>998</td>\n",
       "      <td>35</td>\n",
       "      <td>True</td>\n",
       "    </tr>\n",
       "    <tr>\n",
       "      <th>999</th>\n",
       "      <td>italian</td>\n",
       "      <td>93.826029</td>\n",
       "      <td>100.0</td>\n",
       "      <td>ChrF2</td>\n",
       "      <td>999</td>\n",
       "      <td>35</td>\n",
       "      <td>True</td>\n",
       "    </tr>\n",
       "    <tr>\n",
       "      <th>1000</th>\n",
       "      <td>italian</td>\n",
       "      <td>65.292038</td>\n",
       "      <td>100.0</td>\n",
       "      <td>ChrF2</td>\n",
       "      <td>1000</td>\n",
       "      <td>35</td>\n",
       "      <td>True</td>\n",
       "    </tr>\n",
       "  </tbody>\n",
       "</table>\n",
       "<p>11000 rows × 7 columns</p>\n",
       "</div>"
      ],
      "text/plain": [
       "     source_language   mt_score disfluent_score      metric  sentence_id  \\\n",
       "1     chinese_simple   0.999132             1.0  XCOMET-XXL            1   \n",
       "2     chinese_simple        1.0        0.999354  XCOMET-XXL            2   \n",
       "3     chinese_simple        1.0        0.997073  XCOMET-XXL            3   \n",
       "4     chinese_simple   0.995413             1.0  XCOMET-XXL            4   \n",
       "5     chinese_simple   0.988401        0.930063  XCOMET-XXL            5   \n",
       "...              ...        ...             ...         ...          ...   \n",
       "996          italian  74.188438           100.0       ChrF2          996   \n",
       "997          italian  69.348646           100.0       ChrF2          997   \n",
       "998          italian  51.522835           100.0       ChrF2          998   \n",
       "999          italian  93.826029           100.0       ChrF2          999   \n",
       "1000         italian  65.292038           100.0       ChrF2         1000   \n",
       "\n",
       "      category  correct  \n",
       "1           35     True  \n",
       "2           35    False  \n",
       "3           35    False  \n",
       "4           35     True  \n",
       "5           35    False  \n",
       "...        ...      ...  \n",
       "996         35     True  \n",
       "997         35     True  \n",
       "998         35     True  \n",
       "999         35     True  \n",
       "1000        35     True  \n",
       "\n",
       "[11000 rows x 7 columns]"
      ]
     },
     "execution_count": 16,
     "metadata": {},
     "output_type": "execute_result"
    }
   ],
   "source": [
    "cat_to_rev[\"correct\"] = cat_to_rev[\"mt_score\"] < cat_to_rev[\"disfluent_score\"]\n",
    "cat_to_rev"
   ]
  },
  {
   "cell_type": "code",
   "execution_count": 17,
   "metadata": {},
   "outputs": [],
   "source": [
    "# Reassign values to original dataframe\n",
    "all_res.loc[all_res[\"category\"] == 35, \"correct\"] = cat_to_rev.correct"
   ]
  },
  {
   "cell_type": "code",
   "execution_count": 18,
   "metadata": {},
   "outputs": [
    {
     "data": {
      "text/html": [
       "<div>\n",
       "<style scoped>\n",
       "    .dataframe tbody tr th:only-of-type {\n",
       "        vertical-align: middle;\n",
       "    }\n",
       "\n",
       "    .dataframe tbody tr th {\n",
       "        vertical-align: top;\n",
       "    }\n",
       "\n",
       "    .dataframe thead th {\n",
       "        text-align: right;\n",
       "    }\n",
       "</style>\n",
       "<table border=\"1\" class=\"dataframe\">\n",
       "  <thead>\n",
       "    <tr style=\"text-align: right;\">\n",
       "      <th></th>\n",
       "      <th>source_language</th>\n",
       "      <th>mt_score</th>\n",
       "      <th>disfluent_score</th>\n",
       "      <th>metric</th>\n",
       "      <th>sentence_id</th>\n",
       "      <th>category</th>\n",
       "      <th>correct</th>\n",
       "    </tr>\n",
       "  </thead>\n",
       "  <tbody>\n",
       "    <tr>\n",
       "      <th>1</th>\n",
       "      <td>chinese_simple</td>\n",
       "      <td>0.999132</td>\n",
       "      <td>1.0</td>\n",
       "      <td>XCOMET-XXL</td>\n",
       "      <td>1</td>\n",
       "      <td>35</td>\n",
       "      <td>True</td>\n",
       "    </tr>\n",
       "    <tr>\n",
       "      <th>2</th>\n",
       "      <td>chinese_simple</td>\n",
       "      <td>1.0</td>\n",
       "      <td>0.999354</td>\n",
       "      <td>XCOMET-XXL</td>\n",
       "      <td>2</td>\n",
       "      <td>35</td>\n",
       "      <td>False</td>\n",
       "    </tr>\n",
       "    <tr>\n",
       "      <th>3</th>\n",
       "      <td>chinese_simple</td>\n",
       "      <td>1.0</td>\n",
       "      <td>0.997073</td>\n",
       "      <td>XCOMET-XXL</td>\n",
       "      <td>3</td>\n",
       "      <td>35</td>\n",
       "      <td>False</td>\n",
       "    </tr>\n",
       "    <tr>\n",
       "      <th>4</th>\n",
       "      <td>chinese_simple</td>\n",
       "      <td>0.995413</td>\n",
       "      <td>1.0</td>\n",
       "      <td>XCOMET-XXL</td>\n",
       "      <td>4</td>\n",
       "      <td>35</td>\n",
       "      <td>True</td>\n",
       "    </tr>\n",
       "    <tr>\n",
       "      <th>5</th>\n",
       "      <td>chinese_simple</td>\n",
       "      <td>0.988401</td>\n",
       "      <td>0.930063</td>\n",
       "      <td>XCOMET-XXL</td>\n",
       "      <td>5</td>\n",
       "      <td>35</td>\n",
       "      <td>False</td>\n",
       "    </tr>\n",
       "    <tr>\n",
       "      <th>...</th>\n",
       "      <td>...</td>\n",
       "      <td>...</td>\n",
       "      <td>...</td>\n",
       "      <td>...</td>\n",
       "      <td>...</td>\n",
       "      <td>...</td>\n",
       "      <td>...</td>\n",
       "    </tr>\n",
       "    <tr>\n",
       "      <th>996</th>\n",
       "      <td>italian</td>\n",
       "      <td>74.188438</td>\n",
       "      <td>100.0</td>\n",
       "      <td>ChrF2</td>\n",
       "      <td>996</td>\n",
       "      <td>35</td>\n",
       "      <td>True</td>\n",
       "    </tr>\n",
       "    <tr>\n",
       "      <th>997</th>\n",
       "      <td>italian</td>\n",
       "      <td>69.348646</td>\n",
       "      <td>100.0</td>\n",
       "      <td>ChrF2</td>\n",
       "      <td>997</td>\n",
       "      <td>35</td>\n",
       "      <td>True</td>\n",
       "    </tr>\n",
       "    <tr>\n",
       "      <th>998</th>\n",
       "      <td>italian</td>\n",
       "      <td>51.522835</td>\n",
       "      <td>100.0</td>\n",
       "      <td>ChrF2</td>\n",
       "      <td>998</td>\n",
       "      <td>35</td>\n",
       "      <td>True</td>\n",
       "    </tr>\n",
       "    <tr>\n",
       "      <th>999</th>\n",
       "      <td>italian</td>\n",
       "      <td>93.826029</td>\n",
       "      <td>100.0</td>\n",
       "      <td>ChrF2</td>\n",
       "      <td>999</td>\n",
       "      <td>35</td>\n",
       "      <td>True</td>\n",
       "    </tr>\n",
       "    <tr>\n",
       "      <th>1000</th>\n",
       "      <td>italian</td>\n",
       "      <td>65.292038</td>\n",
       "      <td>100.0</td>\n",
       "      <td>ChrF2</td>\n",
       "      <td>1000</td>\n",
       "      <td>35</td>\n",
       "      <td>True</td>\n",
       "    </tr>\n",
       "  </tbody>\n",
       "</table>\n",
       "<p>11000 rows × 7 columns</p>\n",
       "</div>"
      ],
      "text/plain": [
       "     source_language   mt_score disfluent_score      metric  sentence_id  \\\n",
       "1     chinese_simple   0.999132             1.0  XCOMET-XXL            1   \n",
       "2     chinese_simple        1.0        0.999354  XCOMET-XXL            2   \n",
       "3     chinese_simple        1.0        0.997073  XCOMET-XXL            3   \n",
       "4     chinese_simple   0.995413             1.0  XCOMET-XXL            4   \n",
       "5     chinese_simple   0.988401        0.930063  XCOMET-XXL            5   \n",
       "...              ...        ...             ...         ...          ...   \n",
       "996          italian  74.188438           100.0       ChrF2          996   \n",
       "997          italian  69.348646           100.0       ChrF2          997   \n",
       "998          italian  51.522835           100.0       ChrF2          998   \n",
       "999          italian  93.826029           100.0       ChrF2          999   \n",
       "1000         italian  65.292038           100.0       ChrF2         1000   \n",
       "\n",
       "      category  correct  \n",
       "1           35     True  \n",
       "2           35    False  \n",
       "3           35    False  \n",
       "4           35     True  \n",
       "5           35    False  \n",
       "...        ...      ...  \n",
       "996         35     True  \n",
       "997         35     True  \n",
       "998         35     True  \n",
       "999         35     True  \n",
       "1000        35     True  \n",
       "\n",
       "[11000 rows x 7 columns]"
      ]
     },
     "execution_count": 18,
     "metadata": {},
     "output_type": "execute_result"
    }
   ],
   "source": [
    "# Check result\n",
    "all_res.loc[all_res[\"category\"] == 35]"
   ]
  },
  {
   "cell_type": "code",
   "execution_count": 19,
   "metadata": {},
   "outputs": [],
   "source": [
    "# Add column for severity\n",
    "all_res[\"severity\"] = all_res[\"category\"].map(cat_severity)"
   ]
  },
  {
   "cell_type": "code",
   "execution_count": 20,
   "metadata": {},
   "outputs": [
    {
     "data": {
      "text/html": [
       "<div>\n",
       "<style scoped>\n",
       "    .dataframe tbody tr th:only-of-type {\n",
       "        vertical-align: middle;\n",
       "    }\n",
       "\n",
       "    .dataframe tbody tr th {\n",
       "        vertical-align: top;\n",
       "    }\n",
       "\n",
       "    .dataframe thead th {\n",
       "        text-align: right;\n",
       "    }\n",
       "</style>\n",
       "<table border=\"1\" class=\"dataframe\">\n",
       "  <thead>\n",
       "    <tr style=\"text-align: right;\">\n",
       "      <th></th>\n",
       "      <th>source_language</th>\n",
       "      <th>mt_score</th>\n",
       "      <th>disfluent_score</th>\n",
       "      <th>metric</th>\n",
       "      <th>sentence_id</th>\n",
       "      <th>category</th>\n",
       "      <th>correct</th>\n",
       "      <th>severity</th>\n",
       "    </tr>\n",
       "  </thead>\n",
       "  <tbody>\n",
       "    <tr>\n",
       "      <th>1</th>\n",
       "      <td>chinese_simple</td>\n",
       "      <td>73.613919</td>\n",
       "      <td>19.173356</td>\n",
       "      <td>ChrF1</td>\n",
       "      <td>1</td>\n",
       "      <td>33</td>\n",
       "      <td>True</td>\n",
       "      <td>base</td>\n",
       "    </tr>\n",
       "    <tr>\n",
       "      <th>2</th>\n",
       "      <td>chinese_simple</td>\n",
       "      <td>82.892551</td>\n",
       "      <td>17.013595</td>\n",
       "      <td>ChrF1</td>\n",
       "      <td>2</td>\n",
       "      <td>33</td>\n",
       "      <td>True</td>\n",
       "      <td>base</td>\n",
       "    </tr>\n",
       "    <tr>\n",
       "      <th>3</th>\n",
       "      <td>chinese_simple</td>\n",
       "      <td>71.757296</td>\n",
       "      <td>18.575202</td>\n",
       "      <td>ChrF1</td>\n",
       "      <td>3</td>\n",
       "      <td>33</td>\n",
       "      <td>True</td>\n",
       "      <td>base</td>\n",
       "    </tr>\n",
       "    <tr>\n",
       "      <th>4</th>\n",
       "      <td>chinese_simple</td>\n",
       "      <td>72.900449</td>\n",
       "      <td>13.572237</td>\n",
       "      <td>ChrF1</td>\n",
       "      <td>4</td>\n",
       "      <td>33</td>\n",
       "      <td>True</td>\n",
       "      <td>base</td>\n",
       "    </tr>\n",
       "    <tr>\n",
       "      <th>5</th>\n",
       "      <td>chinese_simple</td>\n",
       "      <td>53.857323</td>\n",
       "      <td>18.03467</td>\n",
       "      <td>ChrF1</td>\n",
       "      <td>5</td>\n",
       "      <td>33</td>\n",
       "      <td>True</td>\n",
       "      <td>base</td>\n",
       "    </tr>\n",
       "  </tbody>\n",
       "</table>\n",
       "</div>"
      ],
      "text/plain": [
       "  source_language   mt_score disfluent_score metric  sentence_id  category  \\\n",
       "1  chinese_simple  73.613919       19.173356  ChrF1            1        33   \n",
       "2  chinese_simple  82.892551       17.013595  ChrF1            2        33   \n",
       "3  chinese_simple  71.757296       18.575202  ChrF1            3        33   \n",
       "4  chinese_simple  72.900449       13.572237  ChrF1            4        33   \n",
       "5  chinese_simple  53.857323        18.03467  ChrF1            5        33   \n",
       "\n",
       "   correct severity  \n",
       "1     True     base  \n",
       "2     True     base  \n",
       "3     True     base  \n",
       "4     True     base  \n",
       "5     True     base  "
      ]
     },
     "execution_count": 20,
     "metadata": {},
     "output_type": "execute_result"
    }
   ],
   "source": [
    "all_res.head(5)"
   ]
  },
  {
   "cell_type": "code",
   "execution_count": 21,
   "metadata": {},
   "outputs": [],
   "source": [
    "all_res.to_csv(\"../outputs/demetr/all/all.csv\", index=False)"
   ]
  },
  {
   "cell_type": "code",
   "execution_count": 22,
   "metadata": {},
   "outputs": [
    {
     "data": {
      "text/plain": [
       "Text(0.5, 1.0, 'Mean performance across all 35 categories')"
      ]
     },
     "execution_count": 22,
     "metadata": {},
     "output_type": "execute_result"
    },
    {
     "data": {
      "image/png": "[encoded data removed]",
      "text/plain": [
       "<Figure size 640x480 with 1 Axes>"
      ]
     },
     "metadata": {},
     "output_type": "display_data"
    }
   ],
   "source": [
    "# TODO: error bars\n",
    "\n",
    "fig, axs = plt.subplots()\n",
    "by_language = all_res.groupby(\"source_language\")[\"correct\"].mean()\n",
    "axs.plot(by_language, \"x\")\n",
    "plt.xticks(np.arange(10), by_language.index, rotation=45)\n",
    "plt.ylabel(\"DEMETR accuracy (%)\")\n",
    "plt.xlabel(\"Source language\")\n",
    "plt.title(\"Mean performance across all 35 categories\")"
   ]
  },
  {
   "cell_type": "code",
   "execution_count": 23,
   "metadata": {},
   "outputs": [
    {
     "data": {
      "text/plain": [
       "Text(0.5, 1.0, 'Mean performance for each error type')"
      ]
     },
     "execution_count": 23,
     "metadata": {},
     "output_type": "execute_result"
    },
    {
     "data": {
      "image/png": "[encoded data removed]",
      "text/plain": [
       "<Figure size 640x480 with 1 Axes>"
      ]
     },
     "metadata": {},
     "output_type": "display_data"
    }
   ],
   "source": [
    "fig, axs = plt.subplots()\n",
    "by_severity = all_res.groupby(\"severity\")[\"correct\"].mean()\n",
    "by_severity.plot(kind=\"bar\")\n",
    "plt.xticks(np.arange(4), by_severity.index, rotation=0)\n",
    "plt.ylabel(\"DEMETR accuracy\")\n",
    "plt.xlabel(\"Severity\")\n",
    "plt.title(\"Mean performance for each error type\")"
   ]
  },
  {
   "cell_type": "code",
   "execution_count": 24,
   "metadata": {},
   "outputs": [
    {
     "data": {
      "text/plain": [
       "<matplotlib.legend.Legend at 0x12de99110>"
      ]
     },
     "execution_count": 24,
     "metadata": {},
     "output_type": "execute_result"
    },
    {
     "data": {
      "image/png": "[encoded data removed]",
      "text/plain": [
       "<Figure size 640x480 with 1 Axes>"
      ]
     },
     "metadata": {},
     "output_type": "display_data"
    }
   ],
   "source": [
    "# Probably skip in report\n",
    "fig, axs = plt.subplots()\n",
    "sev_by_lang = all_res.groupby([\"source_language\", \"severity\"])[\"correct\"].mean()\n",
    "sev_by_lang.unstack().plot(kind=\"bar\", ax=axs)\n",
    "plt.xticks(rotation=45)\n",
    "plt.ylabel(\"DEMETR accuracy\")\n",
    "plt.xlabel(\"Source language\")\n",
    "plt.title(\"Mean performance for each severity level, by language\")\n",
    "plt.legend(loc=\"right\", bbox_to_anchor=(1.25, 0.5))"
   ]
  },
  {
   "cell_type": "code",
   "execution_count": 25,
   "metadata": {},
   "outputs": [],
   "source": [
    "# Tidy up COMET naming\n",
    "all_res[\"metric\"] = all_res.metric.replace(\n",
    "    {\n",
    "        \"wmt22-comet-da\": \"wmt22-COMET\",\n",
    "        \"wmt22-cometkiwi-da\": \"wmt22-COMETKiwi\",\n",
    "        \"Bleu\": \"BLEU\",\n",
    "    }\n",
    ")"
   ]
  },
  {
   "cell_type": "code",
   "execution_count": 26,
   "metadata": {},
   "outputs": [
    {
     "data": {
      "text/plain": [
       "<matplotlib.legend.Legend at 0x12f15bdd0>"
      ]
     },
     "execution_count": 26,
     "metadata": {},
     "output_type": "execute_result"
    },
    {
     "data": {
      "image/png": "[encoded data removed]",
      "text/plain": [
       "<Figure size 640x480 with 1 Axes>"
      ]
     },
     "metadata": {},
     "output_type": "display_data"
    }
   ],
   "source": [
    "# TODO: Extract this as a table\n",
    "\n",
    "fig, axs = plt.subplots()\n",
    "sev_by_lang = all_res.groupby([\"source_language\", \"metric\"])[\"correct\"].mean()\n",
    "sev_by_lang.unstack().plot(kind=\"bar\", ax=axs)\n",
    "plt.xticks(rotation=45)\n",
    "plt.ylabel(\"DEMETR accuracy\")\n",
    "plt.xlabel(\"Source language\")\n",
    "plt.title(\"Mean performance for each metric, by language\")\n",
    "plt.legend(loc=\"right\", bbox_to_anchor=(1.4, 0.5))"
   ]
  },
  {
   "cell_type": "code",
   "execution_count": null,
   "metadata": {},
   "outputs": [
    {
     "ename": "AttributeError",
     "evalue": "'Series' object has no attribute 'source_language'",
     "output_type": "error",
     "traceback": [
      "\u001b[31m---------------------------------------------------------------------------\u001b[39m",
      "\u001b[31mAttributeError\u001b[39m                            Traceback (most recent call last)",
      "\u001b[32m/var/folders/z4/mf_7gqbs75d6y4sj_xb9t80w0000gr/T/ipykernel_99881/3789190486.py\u001b[39m in \u001b[36m?\u001b[39m\u001b[34m()\u001b[39m\n\u001b[32m----> \u001b[39m\u001b[32m1\u001b[39m sev_by_lang.reset_index()[sev_by_lang.source_language == \u001b[33m\"chinese_simple\"\u001b[39m]\n",
      "\u001b[32m~/ARC-m4st/.venv/lib/python3.11/site-packages/pandas/core/generic.py\u001b[39m in \u001b[36m?\u001b[39m\u001b[34m(self, name)\u001b[39m\n\u001b[32m   6295\u001b[39m             \u001b[38;5;28;01mand\u001b[39;00m name \u001b[38;5;28;01mnot\u001b[39;00m \u001b[38;5;28;01min\u001b[39;00m self._accessors\n\u001b[32m   6296\u001b[39m             \u001b[38;5;28;01mand\u001b[39;00m self._info_axis._can_hold_identifiers_and_holds_name(name)\n\u001b[32m   6297\u001b[39m         ):\n\u001b[32m   6298\u001b[39m             \u001b[38;5;28;01mreturn\u001b[39;00m self[name]\n\u001b[32m-> \u001b[39m\u001b[32m6299\u001b[39m         \u001b[38;5;28;01mreturn\u001b[39;00m object.__getattribute__(self, name)\n",
      "\u001b[31mAttributeError\u001b[39m: 'Series' object has no attribute 'source_language'"
     ]
    }
   ],
   "source": [
    "to_table = sev_by_lang.reset_index()"
   ]
  },
  {
   "cell_type": "code",
   "execution_count": 73,
   "metadata": {},
   "outputs": [
    {
     "data": {
      "text/plain": [
       "<matplotlib.legend.Legend at 0x3124f0810>"
      ]
     },
     "execution_count": 73,
     "metadata": {},
     "output_type": "execute_result"
    },
    {
     "data": {
      "image/png": "[encoded data removed]",
      "text/plain": [
       "<Figure size 640x480 with 1 Axes>"
      ]
     },
     "metadata": {},
     "output_type": "display_data"
    }
   ],
   "source": [
    "fig, axs = plt.subplots()\n",
    "sev_by_lang = all_res.groupby([\"source_language\", \"metric\"])[\"correct\"].mean()\n",
    "sev_by_lang.unstack().drop(columns=[\"BLASER\", \"ChrF2\", \"ChrF1\"]).plot(\n",
    "    kind=\"bar\", ax=axs\n",
    ")\n",
    "plt.xticks(rotation=45)\n",
    "plt.ylabel(\"DEMETR accuracy\")\n",
    "plt.xlabel(\"Source language\")\n",
    "plt.title(\"Mean performance for COMET metrics, by language\")\n",
    "plt.legend(loc=\"right\", bbox_to_anchor=(1.4, 0.5))"
   ]
  },
  {
   "cell_type": "code",
   "execution_count": null,
   "metadata": {},
   "outputs": [
    {
     "data": {
      "text/plain": [
       "Text(0.5, 1.0, 'Mean performance across all languages')"
      ]
     },
     "execution_count": 39,
     "metadata": {},
     "output_type": "execute_result"
    },
    {
     "data": {
      "image/png": "[encoded data removed]",
      "text/plain": [
       "<Figure size 640x480 with 1 Axes>"
      ]
     },
     "metadata": {},
     "output_type": "display_data"
    }
   ],
   "source": [
    "fig, axs = plt.subplots()\n",
    "sorted_overall_mean = (\n",
    "    all_res.groupby([\"metric\"])[\"correct\"].mean().sort_values(ascending=False)\n",
    ")\n",
    "axs.plot(sorted_overall_mean, \"x\")\n",
    "plt.xticks(rotation=30)\n",
    "plt.xlabel(\"Metric\")\n",
    "plt.ylabel(\"Accuracy\")\n",
    "# plt.title(\"Mean performance across all languages\")"
   ]
  },
  {
   "cell_type": "code",
   "execution_count": 48,
   "metadata": {},
   "outputs": [
    {
     "data": {
      "text/html": [
       "<div>\n",
       "<style scoped>\n",
       "    .dataframe tbody tr th:only-of-type {\n",
       "        vertical-align: middle;\n",
       "    }\n",
       "\n",
       "    .dataframe tbody tr th {\n",
       "        vertical-align: top;\n",
       "    }\n",
       "\n",
       "    .dataframe thead th {\n",
       "        text-align: right;\n",
       "    }\n",
       "</style>\n",
       "<table border=\"1\" class=\"dataframe\">\n",
       "  <thead>\n",
       "    <tr style=\"text-align: right;\">\n",
       "      <th></th>\n",
       "      <th>source_language</th>\n",
       "      <th>mt_score</th>\n",
       "      <th>disfluent_score</th>\n",
       "      <th>metric</th>\n",
       "      <th>sentence_id</th>\n",
       "      <th>category</th>\n",
       "      <th>correct</th>\n",
       "      <th>severity</th>\n",
       "    </tr>\n",
       "  </thead>\n",
       "  <tbody>\n",
       "    <tr>\n",
       "      <th>1</th>\n",
       "      <td>chinese_simple</td>\n",
       "      <td>73.613919</td>\n",
       "      <td>19.173356</td>\n",
       "      <td>ChrF1</td>\n",
       "      <td>1</td>\n",
       "      <td>33</td>\n",
       "      <td>True</td>\n",
       "      <td>base</td>\n",
       "    </tr>\n",
       "    <tr>\n",
       "      <th>2</th>\n",
       "      <td>chinese_simple</td>\n",
       "      <td>82.892551</td>\n",
       "      <td>17.013595</td>\n",
       "      <td>ChrF1</td>\n",
       "      <td>2</td>\n",
       "      <td>33</td>\n",
       "      <td>True</td>\n",
       "      <td>base</td>\n",
       "    </tr>\n",
       "    <tr>\n",
       "      <th>3</th>\n",
       "      <td>chinese_simple</td>\n",
       "      <td>71.757296</td>\n",
       "      <td>18.575202</td>\n",
       "      <td>ChrF1</td>\n",
       "      <td>3</td>\n",
       "      <td>33</td>\n",
       "      <td>True</td>\n",
       "      <td>base</td>\n",
       "    </tr>\n",
       "    <tr>\n",
       "      <th>4</th>\n",
       "      <td>chinese_simple</td>\n",
       "      <td>72.900449</td>\n",
       "      <td>13.572237</td>\n",
       "      <td>ChrF1</td>\n",
       "      <td>4</td>\n",
       "      <td>33</td>\n",
       "      <td>True</td>\n",
       "      <td>base</td>\n",
       "    </tr>\n",
       "    <tr>\n",
       "      <th>5</th>\n",
       "      <td>chinese_simple</td>\n",
       "      <td>53.857323</td>\n",
       "      <td>18.03467</td>\n",
       "      <td>ChrF1</td>\n",
       "      <td>5</td>\n",
       "      <td>33</td>\n",
       "      <td>True</td>\n",
       "      <td>base</td>\n",
       "    </tr>\n",
       "    <tr>\n",
       "      <th>...</th>\n",
       "      <td>...</td>\n",
       "      <td>...</td>\n",
       "      <td>...</td>\n",
       "      <td>...</td>\n",
       "      <td>...</td>\n",
       "      <td>...</td>\n",
       "      <td>...</td>\n",
       "      <td>...</td>\n",
       "    </tr>\n",
       "    <tr>\n",
       "      <th>996</th>\n",
       "      <td>italian</td>\n",
       "      <td>0.989141</td>\n",
       "      <td>0.946483</td>\n",
       "      <td>XCOMET-XL</td>\n",
       "      <td>996</td>\n",
       "      <td>6</td>\n",
       "      <td>True</td>\n",
       "      <td>critical</td>\n",
       "    </tr>\n",
       "    <tr>\n",
       "      <th>997</th>\n",
       "      <td>italian</td>\n",
       "      <td>0.990359</td>\n",
       "      <td>0.945723</td>\n",
       "      <td>XCOMET-XL</td>\n",
       "      <td>997</td>\n",
       "      <td>6</td>\n",
       "      <td>True</td>\n",
       "      <td>critical</td>\n",
       "    </tr>\n",
       "    <tr>\n",
       "      <th>998</th>\n",
       "      <td>italian</td>\n",
       "      <td>0.988565</td>\n",
       "      <td>0.94941</td>\n",
       "      <td>XCOMET-XL</td>\n",
       "      <td>998</td>\n",
       "      <td>6</td>\n",
       "      <td>True</td>\n",
       "      <td>critical</td>\n",
       "    </tr>\n",
       "    <tr>\n",
       "      <th>999</th>\n",
       "      <td>italian</td>\n",
       "      <td>0.999375</td>\n",
       "      <td>0.985015</td>\n",
       "      <td>XCOMET-XL</td>\n",
       "      <td>999</td>\n",
       "      <td>6</td>\n",
       "      <td>True</td>\n",
       "      <td>critical</td>\n",
       "    </tr>\n",
       "    <tr>\n",
       "      <th>1000</th>\n",
       "      <td>italian</td>\n",
       "      <td>0.968515</td>\n",
       "      <td>0.94665</td>\n",
       "      <td>XCOMET-XL</td>\n",
       "      <td>1000</td>\n",
       "      <td>6</td>\n",
       "      <td>True</td>\n",
       "      <td>critical</td>\n",
       "    </tr>\n",
       "  </tbody>\n",
       "</table>\n",
       "<p>382000 rows × 8 columns</p>\n",
       "</div>"
      ],
      "text/plain": [
       "     source_language   mt_score disfluent_score     metric  sentence_id  \\\n",
       "1     chinese_simple  73.613919       19.173356      ChrF1            1   \n",
       "2     chinese_simple  82.892551       17.013595      ChrF1            2   \n",
       "3     chinese_simple  71.757296       18.575202      ChrF1            3   \n",
       "4     chinese_simple  72.900449       13.572237      ChrF1            4   \n",
       "5     chinese_simple  53.857323        18.03467      ChrF1            5   \n",
       "...              ...        ...             ...        ...          ...   \n",
       "996          italian   0.989141        0.946483  XCOMET-XL          996   \n",
       "997          italian   0.990359        0.945723  XCOMET-XL          997   \n",
       "998          italian   0.988565         0.94941  XCOMET-XL          998   \n",
       "999          italian   0.999375        0.985015  XCOMET-XL          999   \n",
       "1000         italian   0.968515         0.94665  XCOMET-XL         1000   \n",
       "\n",
       "      category  correct  severity  \n",
       "1           33     True      base  \n",
       "2           33     True      base  \n",
       "3           33     True      base  \n",
       "4           33     True      base  \n",
       "5           33     True      base  \n",
       "...        ...      ...       ...  \n",
       "996          6     True  critical  \n",
       "997          6     True  critical  \n",
       "998          6     True  critical  \n",
       "999          6     True  critical  \n",
       "1000         6     True  critical  \n",
       "\n",
       "[382000 rows x 8 columns]"
      ]
     },
     "execution_count": 48,
     "metadata": {},
     "output_type": "execute_result"
    }
   ],
   "source": [
    "all_res"
   ]
  },
  {
   "cell_type": "code",
   "execution_count": 43,
   "metadata": {},
   "outputs": [
    {
     "data": {
      "text/html": [
       "<div>\n",
       "<style scoped>\n",
       "    .dataframe tbody tr th:only-of-type {\n",
       "        vertical-align: middle;\n",
       "    }\n",
       "\n",
       "    .dataframe tbody tr th {\n",
       "        vertical-align: top;\n",
       "    }\n",
       "\n",
       "    .dataframe thead th {\n",
       "        text-align: right;\n",
       "    }\n",
       "</style>\n",
       "<table border=\"1\" class=\"dataframe\">\n",
       "  <thead>\n",
       "    <tr style=\"text-align: right;\">\n",
       "      <th></th>\n",
       "      <th>source_language</th>\n",
       "      <th>mt_score</th>\n",
       "      <th>disfluent_score</th>\n",
       "      <th>metric</th>\n",
       "      <th>sentence_id</th>\n",
       "      <th>category</th>\n",
       "      <th>correct</th>\n",
       "      <th>severity</th>\n",
       "    </tr>\n",
       "  </thead>\n",
       "  <tbody>\n",
       "    <tr>\n",
       "      <th>1</th>\n",
       "      <td>chinese_simple</td>\n",
       "      <td>73.613919</td>\n",
       "      <td>19.173356</td>\n",
       "      <td>ChrF1</td>\n",
       "      <td>1</td>\n",
       "      <td>33</td>\n",
       "      <td>True</td>\n",
       "      <td>base</td>\n",
       "    </tr>\n",
       "    <tr>\n",
       "      <th>2</th>\n",
       "      <td>chinese_simple</td>\n",
       "      <td>82.892551</td>\n",
       "      <td>17.013595</td>\n",
       "      <td>ChrF1</td>\n",
       "      <td>2</td>\n",
       "      <td>33</td>\n",
       "      <td>True</td>\n",
       "      <td>base</td>\n",
       "    </tr>\n",
       "    <tr>\n",
       "      <th>3</th>\n",
       "      <td>chinese_simple</td>\n",
       "      <td>71.757296</td>\n",
       "      <td>18.575202</td>\n",
       "      <td>ChrF1</td>\n",
       "      <td>3</td>\n",
       "      <td>33</td>\n",
       "      <td>True</td>\n",
       "      <td>base</td>\n",
       "    </tr>\n",
       "    <tr>\n",
       "      <th>4</th>\n",
       "      <td>chinese_simple</td>\n",
       "      <td>72.900449</td>\n",
       "      <td>13.572237</td>\n",
       "      <td>ChrF1</td>\n",
       "      <td>4</td>\n",
       "      <td>33</td>\n",
       "      <td>True</td>\n",
       "      <td>base</td>\n",
       "    </tr>\n",
       "    <tr>\n",
       "      <th>5</th>\n",
       "      <td>chinese_simple</td>\n",
       "      <td>53.857323</td>\n",
       "      <td>18.03467</td>\n",
       "      <td>ChrF1</td>\n",
       "      <td>5</td>\n",
       "      <td>33</td>\n",
       "      <td>True</td>\n",
       "      <td>base</td>\n",
       "    </tr>\n",
       "    <tr>\n",
       "      <th>...</th>\n",
       "      <td>...</td>\n",
       "      <td>...</td>\n",
       "      <td>...</td>\n",
       "      <td>...</td>\n",
       "      <td>...</td>\n",
       "      <td>...</td>\n",
       "      <td>...</td>\n",
       "      <td>...</td>\n",
       "    </tr>\n",
       "    <tr>\n",
       "      <th>996</th>\n",
       "      <td>italian</td>\n",
       "      <td>0.989141</td>\n",
       "      <td>0.946483</td>\n",
       "      <td>XCOMET-XL</td>\n",
       "      <td>996</td>\n",
       "      <td>6</td>\n",
       "      <td>True</td>\n",
       "      <td>critical</td>\n",
       "    </tr>\n",
       "    <tr>\n",
       "      <th>997</th>\n",
       "      <td>italian</td>\n",
       "      <td>0.990359</td>\n",
       "      <td>0.945723</td>\n",
       "      <td>XCOMET-XL</td>\n",
       "      <td>997</td>\n",
       "      <td>6</td>\n",
       "      <td>True</td>\n",
       "      <td>critical</td>\n",
       "    </tr>\n",
       "    <tr>\n",
       "      <th>998</th>\n",
       "      <td>italian</td>\n",
       "      <td>0.988565</td>\n",
       "      <td>0.94941</td>\n",
       "      <td>XCOMET-XL</td>\n",
       "      <td>998</td>\n",
       "      <td>6</td>\n",
       "      <td>True</td>\n",
       "      <td>critical</td>\n",
       "    </tr>\n",
       "    <tr>\n",
       "      <th>999</th>\n",
       "      <td>italian</td>\n",
       "      <td>0.999375</td>\n",
       "      <td>0.985015</td>\n",
       "      <td>XCOMET-XL</td>\n",
       "      <td>999</td>\n",
       "      <td>6</td>\n",
       "      <td>True</td>\n",
       "      <td>critical</td>\n",
       "    </tr>\n",
       "    <tr>\n",
       "      <th>1000</th>\n",
       "      <td>italian</td>\n",
       "      <td>0.968515</td>\n",
       "      <td>0.94665</td>\n",
       "      <td>XCOMET-XL</td>\n",
       "      <td>1000</td>\n",
       "      <td>6</td>\n",
       "      <td>True</td>\n",
       "      <td>critical</td>\n",
       "    </tr>\n",
       "  </tbody>\n",
       "</table>\n",
       "<p>382000 rows × 8 columns</p>\n",
       "</div>"
      ],
      "text/plain": [
       "     source_language   mt_score disfluent_score     metric  sentence_id  \\\n",
       "1     chinese_simple  73.613919       19.173356      ChrF1            1   \n",
       "2     chinese_simple  82.892551       17.013595      ChrF1            2   \n",
       "3     chinese_simple  71.757296       18.575202      ChrF1            3   \n",
       "4     chinese_simple  72.900449       13.572237      ChrF1            4   \n",
       "5     chinese_simple  53.857323        18.03467      ChrF1            5   \n",
       "...              ...        ...             ...        ...          ...   \n",
       "996          italian   0.989141        0.946483  XCOMET-XL          996   \n",
       "997          italian   0.990359        0.945723  XCOMET-XL          997   \n",
       "998          italian   0.988565         0.94941  XCOMET-XL          998   \n",
       "999          italian   0.999375        0.985015  XCOMET-XL          999   \n",
       "1000         italian   0.968515         0.94665  XCOMET-XL         1000   \n",
       "\n",
       "      category  correct  severity  \n",
       "1           33     True      base  \n",
       "2           33     True      base  \n",
       "3           33     True      base  \n",
       "4           33     True      base  \n",
       "5           33     True      base  \n",
       "...        ...      ...       ...  \n",
       "996          6     True  critical  \n",
       "997          6     True  critical  \n",
       "998          6     True  critical  \n",
       "999          6     True  critical  \n",
       "1000         6     True  critical  \n",
       "\n",
       "[382000 rows x 8 columns]"
      ]
     },
     "execution_count": 43,
     "metadata": {},
     "output_type": "execute_result"
    }
   ],
   "source": [
    "all_res"
   ]
  },
  {
   "cell_type": "code",
   "execution_count": 63,
   "metadata": {},
   "outputs": [
    {
     "data": {
      "text/html": [
       "<div>\n",
       "<style scoped>\n",
       "    .dataframe tbody tr th:only-of-type {\n",
       "        vertical-align: middle;\n",
       "    }\n",
       "\n",
       "    .dataframe tbody tr th {\n",
       "        vertical-align: top;\n",
       "    }\n",
       "\n",
       "    .dataframe thead th {\n",
       "        text-align: right;\n",
       "    }\n",
       "</style>\n",
       "<table border=\"1\" class=\"dataframe\">\n",
       "  <thead>\n",
       "    <tr style=\"text-align: right;\">\n",
       "      <th></th>\n",
       "      <th>metric</th>\n",
       "      <th>category</th>\n",
       "      <th>correct</th>\n",
       "    </tr>\n",
       "  </thead>\n",
       "  <tbody>\n",
       "    <tr>\n",
       "      <th>0</th>\n",
       "      <td>BLASER</td>\n",
       "      <td>1</td>\n",
       "      <td>0.9640</td>\n",
       "    </tr>\n",
       "    <tr>\n",
       "      <th>1</th>\n",
       "      <td>BLASER</td>\n",
       "      <td>2</td>\n",
       "      <td>0.9945</td>\n",
       "    </tr>\n",
       "    <tr>\n",
       "      <th>2</th>\n",
       "      <td>BLASER</td>\n",
       "      <td>3</td>\n",
       "      <td>0.8185</td>\n",
       "    </tr>\n",
       "    <tr>\n",
       "      <th>3</th>\n",
       "      <td>BLASER</td>\n",
       "      <td>4</td>\n",
       "      <td>0.9195</td>\n",
       "    </tr>\n",
       "    <tr>\n",
       "      <th>4</th>\n",
       "      <td>BLASER</td>\n",
       "      <td>5</td>\n",
       "      <td>0.8405</td>\n",
       "    </tr>\n",
       "    <tr>\n",
       "      <th>...</th>\n",
       "      <td>...</td>\n",
       "      <td>...</td>\n",
       "      <td>...</td>\n",
       "    </tr>\n",
       "    <tr>\n",
       "      <th>307</th>\n",
       "      <td>wmt22-COMETKiwi</td>\n",
       "      <td>31</td>\n",
       "      <td>0.9720</td>\n",
       "    </tr>\n",
       "    <tr>\n",
       "      <th>308</th>\n",
       "      <td>wmt22-COMETKiwi</td>\n",
       "      <td>32</td>\n",
       "      <td>1.0000</td>\n",
       "    </tr>\n",
       "    <tr>\n",
       "      <th>309</th>\n",
       "      <td>wmt22-COMETKiwi</td>\n",
       "      <td>33</td>\n",
       "      <td>1.0000</td>\n",
       "    </tr>\n",
       "    <tr>\n",
       "      <th>310</th>\n",
       "      <td>wmt22-COMETKiwi</td>\n",
       "      <td>34</td>\n",
       "      <td>1.0000</td>\n",
       "    </tr>\n",
       "    <tr>\n",
       "      <th>311</th>\n",
       "      <td>wmt22-COMETKiwi</td>\n",
       "      <td>35</td>\n",
       "      <td>0.2320</td>\n",
       "    </tr>\n",
       "  </tbody>\n",
       "</table>\n",
       "<p>312 rows × 3 columns</p>\n",
       "</div>"
      ],
      "text/plain": [
       "              metric  category  correct\n",
       "0             BLASER         1   0.9640\n",
       "1             BLASER         2   0.9945\n",
       "2             BLASER         3   0.8185\n",
       "3             BLASER         4   0.9195\n",
       "4             BLASER         5   0.8405\n",
       "..               ...       ...      ...\n",
       "307  wmt22-COMETKiwi        31   0.9720\n",
       "308  wmt22-COMETKiwi        32   1.0000\n",
       "309  wmt22-COMETKiwi        33   1.0000\n",
       "310  wmt22-COMETKiwi        34   1.0000\n",
       "311  wmt22-COMETKiwi        35   0.2320\n",
       "\n",
       "[312 rows x 3 columns]"
      ]
     },
     "execution_count": 63,
     "metadata": {},
     "output_type": "execute_result"
    }
   ],
   "source": [
    "corr_by_category = (\n",
    "    all_res.groupby([\"metric\", \"category\"])[\"correct\"].mean().reset_index()\n",
    ")\n",
    "corr_by_category"
   ]
  },
  {
   "cell_type": "code",
   "execution_count": 73,
   "metadata": {},
   "outputs": [],
   "source": [
    "grouped = corr_by_category.groupby(\"metric\").median().sort_values(by=\"correct\")"
   ]
  },
  {
   "cell_type": "code",
   "execution_count": 76,
   "metadata": {},
   "outputs": [
    {
     "name": "stderr",
     "output_type": "stream",
     "text": [
      "/var/folders/z4/mf_7gqbs75d6y4sj_xb9t80w0000gr/T/ipykernel_99881/356547050.py:3: UserWarning: set_ticklabels() should only be used with a fixed number of ticks, i.e. after set_ticks() or using a FixedLocator.\n",
      "  axs.set_xticklabels(rotation=30, labels=axs.get_xticklabels())\n"
     ]
    },
    {
     "data": {
      "image/png": "[encoded data removed]",
      "text/plain": [
       "<Figure size 640x480 with 1 Axes>"
      ]
     },
     "metadata": {},
     "output_type": "display_data"
    }
   ],
   "source": [
    "fig, axs = plt.subplots()\n",
    "g = sns.boxplot(\n",
    "    corr_by_category,\n",
    "    x=\"metric\",\n",
    "    y=\"correct\",\n",
    "    fill=False,\n",
    "    ax=axs,\n",
    "    width=0.5,\n",
    "    order=grouped.index,\n",
    ")\n",
    "axs.set_xticklabels(rotation=30, labels=axs.get_xticklabels())\n",
    "axs.set_xlabel(\"Metric\")\n",
    "axs.set_ylabel(\"Accuracy\")\n",
    "plt.tight_layout()\n",
    "plt.savefig(\"../outputs/demetr/plots/metrics-boxplot.png\")"
   ]
  },
  {
   "cell_type": "code",
   "execution_count": 50,
   "metadata": {},
   "outputs": [
    {
     "data": {
      "text/plain": [
       "<matplotlib.legend.Legend at 0x12ff3a490>"
      ]
     },
     "execution_count": 50,
     "metadata": {},
     "output_type": "execute_result"
    },
    {
     "data": {
      "image/png": "[encoded data removed]",
      "text/plain": [
       "<Figure size 640x480 with 1 Axes>"
      ]
     },
     "metadata": {},
     "output_type": "display_data"
    }
   ],
   "source": [
    "# What trend would be desirable here? Include in report\n",
    "\n",
    "fig, axs = plt.subplots()\n",
    "sev_by_lang = all_res.groupby([\"metric\", \"severity\"])[\"correct\"].mean()\n",
    "sev_by_lang.unstack().plot(kind=\"bar\", ax=axs)\n",
    "plt.xticks(rotation=30)\n",
    "plt.ylabel(\"DEMETR accuracy\")\n",
    "plt.xlabel(\"Metric\")\n",
    "# plt.title(\"Mean performance for each severity level by metric\")\n",
    "plt.legend(loc=\"right\", bbox_to_anchor=(1.25, 0.5))"
   ]
  },
  {
   "cell_type": "code",
   "execution_count": 82,
   "metadata": {},
   "outputs": [
    {
     "data": {
      "text/plain": [
       "<matplotlib.legend.Legend at 0x3169f6250>"
      ]
     },
     "execution_count": 82,
     "metadata": {},
     "output_type": "execute_result"
    },
    {
     "data": {
      "image/png": "[encoded data removed]",
      "text/plain": [
       "<Figure size 640x480 with 1 Axes>"
      ]
     },
     "metadata": {},
     "output_type": "display_data"
    }
   ],
   "source": [
    "fig, axs = plt.subplots()\n",
    "sev_by_lang = all_res.groupby([\"metric\", \"severity\"])[\"correct\"].mean()\n",
    "sev_by_lang.unstack().drop([\"BLASER\", \"ChrF2\", \"ChrF1\"]).plot(kind=\"bar\", ax=axs)\n",
    "plt.xticks(rotation=30)\n",
    "plt.ylabel(\"DEMETR accuracy\")\n",
    "plt.xlabel(\"Metric\")\n",
    "plt.title(\"Mean performance by severity for COMET metrics\")\n",
    "plt.legend(loc=\"right\", bbox_to_anchor=(1.25, 0.5))"
   ]
  },
  {
   "cell_type": "markdown",
   "metadata": {},
   "source": [
    "### Comparison between M4ST and original paper"
   ]
  },
  {
   "cell_type": "code",
   "execution_count": 40,
   "metadata": {},
   "outputs": [],
   "source": [
    "m4st_blaser = (\n",
    "    all_res[all_res.metric == \"BLASER\"].groupby(\"category\").correct.mean() * 100\n",
    ")\n",
    "m4st_comet = all_res[all_res.metric == \"COMET\"].groupby(\"category\").correct.mean() * 100\n",
    "m4st_bleu = all_res[all_res.metric == \"Bleu\"].groupby(\"category\").correct.mean() * 100"
   ]
  },
  {
   "cell_type": "code",
   "execution_count": 41,
   "metadata": {},
   "outputs": [],
   "source": [
    "diff_paper = np.array(m4st_blaser) - np.array(comet_baseline.accuracy)\n",
    "diff_new = np.array(m4st_blaser) - np.array(m4st_comet)"
   ]
  },
  {
   "cell_type": "code",
   "execution_count": null,
   "metadata": {},
   "outputs": [],
   "source": [
    "fig, axs = plt.subplots(1, 2, figsize=(10, 5))\n",
    "\n",
    "axs[0].plot(list(range(1, 36)), diff_paper, \"ko\")\n",
    "axs[0].axhline(0, linestyle=\"--\", c=\"r\")\n",
    "axs[0].set_title(\"BLASER-2 vs. COMET (Baseline)\")\n",
    "axs[0].set_ylabel(\"Difference (BLASER-2 - COMET)\")\n",
    "axs[0].set_xlabel(\"DEMETR category\")\n",
    "\n",
    "# TODO: This plot separated so we BLASER-2 vs the best COMET metric\n",
    "axs[1].plot(list(range(1, 36)), diff_new, \"ko\")\n",
    "axs[1].axhline(0, linestyle=\"--\", c=\"r\")\n",
    "axs[1].set_title(\"BLASER-2 vs. COMET (M4ST)\")\n",
    "axs[1].set_ylabel(\"Difference (BLASER-2 - COMET)\")\n",
    "axs[1].set_xlabel(\"DEMETR category\")"
   ]
  },
  {
   "cell_type": "code",
   "execution_count": 43,
   "metadata": {},
   "outputs": [],
   "source": [
    "diff_paper = np.array(m4st_blaser) - np.array(bleu_baseline.accuracy)\n",
    "diff_new = np.array(m4st_blaser) - np.array(m4st_bleu)"
   ]
  },
  {
   "cell_type": "code",
   "execution_count": null,
   "metadata": {},
   "outputs": [],
   "source": [
    "fig, axs = plt.subplots(1, 2, figsize=(10, 5))\n",
    "\n",
    "axs[0].plot(list(range(1, 36)), diff_paper, \"ko\")\n",
    "axs[0].axhline(0, linestyle=\"--\", c=\"r\")\n",
    "axs[0].set_title(\"BLASER-2 vs. Bleu (Baseline)\")\n",
    "axs[0].set_ylabel(\"Difference (BLASER-2 - Bleu)\")\n",
    "axs[0].set_xlabel(\"DEMETR category\")\n",
    "\n",
    "axs[1].plot(list(range(1, 36)), diff_new, \"ko\")\n",
    "axs[1].axhline(0, linestyle=\"--\", c=\"r\")\n",
    "axs[1].set_title(\"BLASER-2 vs. Bleu (M4ST)\")\n",
    "axs[1].set_ylabel(\"Difference (BLASER-2 - Bleu)\")\n",
    "axs[1].set_xlabel(\"DEMETR category\")"
   ]
  },
  {
   "cell_type": "markdown",
   "metadata": {},
   "source": [
    "### Compare BLASER to Bleu/COMET"
   ]
  },
  {
   "cell_type": "code",
   "execution_count": null,
   "metadata": {},
   "outputs": [],
   "source": [
    "demetr_df.head(1)"
   ]
  },
  {
   "cell_type": "code",
   "execution_count": 70,
   "metadata": {},
   "outputs": [],
   "source": [
    "demetr_df[\"metric\"] = demetr_df.metric.replace({\"Comet\": \"COMET\", \"ChrF\": \"ChrF1\"})"
   ]
  },
  {
   "cell_type": "code",
   "execution_count": null,
   "metadata": {},
   "outputs": [],
   "source": [
    "np.unique(all_res.metric)"
   ]
  },
  {
   "cell_type": "code",
   "execution_count": null,
   "metadata": {},
   "outputs": [],
   "source": [
    "np.unique(demetr_df.metric)"
   ]
  },
  {
   "cell_type": "code",
   "execution_count": 73,
   "metadata": {},
   "outputs": [],
   "source": [
    "# Subset DEMETR paper results to match the metrics I used\n",
    "demetr_df_match = demetr_df[demetr_df.metric.isin(np.unique(all_res.metric))]"
   ]
  },
  {
   "cell_type": "code",
   "execution_count": null,
   "metadata": {},
   "outputs": [],
   "source": [
    "demetr_df_match"
   ]
  },
  {
   "cell_type": "code",
   "execution_count": 75,
   "metadata": {},
   "outputs": [],
   "source": [
    "m4st_by_cat = all_res[[\"metric\", \"category\", \"correct\"]].groupby([\"category\", \"metric\"])\n",
    "m4st_by_cat = m4st_by_cat.correct.mean().reset_index()"
   ]
  },
  {
   "cell_type": "code",
   "execution_count": null,
   "metadata": {},
   "outputs": [],
   "source": [
    "m4st_by_cat"
   ]
  },
  {
   "cell_type": "code",
   "execution_count": 77,
   "metadata": {},
   "outputs": [],
   "source": [
    "# Adjust percentage\n",
    "m4st_by_cat[\"correct\"] = m4st_by_cat[\"correct\"] * 100"
   ]
  },
  {
   "cell_type": "code",
   "execution_count": null,
   "metadata": {},
   "outputs": [],
   "source": [
    "# Add column for plotting by source\n",
    "demetr_df_match[\"source\"] = \"Karpinska et al.\""
   ]
  },
  {
   "cell_type": "code",
   "execution_count": 79,
   "metadata": {},
   "outputs": [],
   "source": [
    "m4st_by_cat[\"source\"] = \"ARC\"\n",
    "m4st_by_cat = m4st_by_cat.rename(columns={\"correct\": \"accuracy\"})"
   ]
  },
  {
   "cell_type": "code",
   "execution_count": 80,
   "metadata": {},
   "outputs": [],
   "source": [
    "merged = pd.merge(\n",
    "    demetr_df_match,\n",
    "    m4st_by_cat,\n",
    "    on=[\"category\", \"metric\", \"source\", \"accuracy\"],\n",
    "    how=\"outer\",\n",
    ")"
   ]
  },
  {
   "cell_type": "code",
   "execution_count": null,
   "metadata": {},
   "outputs": [],
   "source": [
    "merged"
   ]
  },
  {
   "cell_type": "code",
   "execution_count": 82,
   "metadata": {},
   "outputs": [],
   "source": [
    "merged = merged[merged.metric.isin([\"Bleu\", \"COMET\", \"ChrF1\", \"ChrF2\"])]"
   ]
  },
  {
   "cell_type": "code",
   "execution_count": null,
   "metadata": {},
   "outputs": [],
   "source": [
    "g = sns.catplot(\n",
    "    data=merged[merged.category <= 15],\n",
    "    kind=\"bar\",\n",
    "    x=\"category\",\n",
    "    y=\"accuracy\",\n",
    "    hue=\"source\",\n",
    "    errorbar=\"sd\",\n",
    "    palette=\"dark\",\n",
    "    alpha=0.6,\n",
    "    height=6,\n",
    "    aspect=11.7 / 8.27,\n",
    ")\n",
    "g.despine(left=True)\n",
    "g.set_axis_labels(\"Category\", \"Accuracy\")\n",
    "g.legend.set_title(\"\")"
   ]
  },
  {
   "cell_type": "code",
   "execution_count": null,
   "metadata": {},
   "outputs": [],
   "source": [
    "g = sns.catplot(\n",
    "    data=merged[merged.category > 15],\n",
    "    kind=\"bar\",\n",
    "    x=\"category\",\n",
    "    y=\"accuracy\",\n",
    "    hue=\"source\",\n",
    "    errorbar=\"sd\",\n",
    "    palette=\"dark\",\n",
    "    alpha=0.6,\n",
    "    height=6,\n",
    "    aspect=11.7 / 8.27,\n",
    ")\n",
    "g.despine(left=True)\n",
    "g.set_axis_labels(\"Category\", \"Accuracy\")\n",
    "g.legend.set_title(\"\")"
   ]
  },
  {
   "cell_type": "markdown",
   "metadata": {},
   "source": [
    "### BLASER only"
   ]
  },
  {
   "cell_type": "code",
   "execution_count": 356,
   "metadata": {},
   "outputs": [],
   "source": [
    "m4st_res_dir = \"../outputs/demetr\""
   ]
  },
  {
   "cell_type": "code",
   "execution_count": 357,
   "metadata": {},
   "outputs": [],
   "source": [
    "blaser_new_15 = pd.read_json(\n",
    "    os.path.join(m4st_res_dir, \"BLASER_REF_minor_id15_case.json\")\n",
    ")\n",
    "blaser_new_8 = pd.read_json(\n",
    "    os.path.join(m4st_res_dir, \"BLASER_Ref_critical_id8_negation.json\")\n",
    ")\n",
    "blaser_new_6 = pd.read_json(\n",
    "    os.path.join(m4st_res_dir, \"BLASER_Ref_critical_id6_addition.json\")\n",
    ")"
   ]
  },
  {
   "cell_type": "code",
   "execution_count": null,
   "metadata": {},
   "outputs": [],
   "source": [
    "blaser_new_15"
   ]
  },
  {
   "cell_type": "code",
   "execution_count": 361,
   "metadata": {},
   "outputs": [],
   "source": [
    "blaser_new_15 = blaser_new_15.T\n",
    "blaser_new_8 = blaser_new_8.T\n",
    "blaser_new_6 = blaser_new_6.T"
   ]
  },
  {
   "cell_type": "code",
   "execution_count": null,
   "metadata": {},
   "outputs": [],
   "source": [
    "blaser_new_8"
   ]
  },
  {
   "cell_type": "code",
   "execution_count": null,
   "metadata": {},
   "outputs": [],
   "source": [
    "np.unique(blaser_new_15.source_language)"
   ]
  },
  {
   "cell_type": "code",
   "execution_count": 364,
   "metadata": {},
   "outputs": [],
   "source": [
    "blaser_new_15[\"diff\"] = blaser_new_15.mt_score - blaser_new_15.disfluent_score\n",
    "blaser_new_8[\"diff\"] = blaser_new_8.mt_score - blaser_new_8.disfluent_score\n",
    "blaser_new_6[\"diff\"] = blaser_new_6.mt_score - blaser_new_6.disfluent_score"
   ]
  },
  {
   "cell_type": "code",
   "execution_count": null,
   "metadata": {},
   "outputs": [],
   "source": [
    "blaser_new_15"
   ]
  },
  {
   "cell_type": "code",
   "execution_count": null,
   "metadata": {},
   "outputs": [],
   "source": [
    "fig, axs = plt.subplots()\n",
    "blaser_new_15.groupby(\"source_language\").mean()[\"diff\"].plot(ax=axs)\n",
    "blaser_new_8.groupby(\"source_language\").mean()[\"diff\"].plot(ax=axs)\n",
    "blaser_new_6.groupby(\"source_language\").mean()[\"diff\"].plot(ax=axs)\n",
    "\n",
    "fig.legend(\n",
    "    labels=[\"Pronoun case\", \"Negation\", \"Addition\"],\n",
    "    loc=\"right\",\n",
    "    bbox_to_anchor=(1.15, 0.5),\n",
    ")\n",
    "axs.set_ylabel(\"Score difference\")\n",
    "plt.xticks(np.arange(10), np.unique(blaser_new_15.source_language), rotation=30)"
   ]
  },
  {
   "cell_type": "code",
   "execution_count": null,
   "metadata": {},
   "outputs": [],
   "source": []
  }
 ],
 "metadata": {
  "kernelspec": {
   "display_name": ".venv",
   "language": "python",
   "name": "python3"
  },
  "language_info": {
   "codemirror_mode": {
    "name": "ipython",
    "version": 3
   },
   "file_extension": ".py",
   "mimetype": "text/x-python",
   "name": "python",
   "nbconvert_exporter": "python",
   "pygments_lexer": "ipython3",
   "version": "3.11.3"
  }
 },
 "nbformat": 4,
 "nbformat_minor": 2
}
